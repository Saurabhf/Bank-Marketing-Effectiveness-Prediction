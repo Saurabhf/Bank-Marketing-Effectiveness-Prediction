{
  "cells": [
    {
      "cell_type": "markdown",
      "metadata": {
        "id": "tOGC-qoyhJeX"
      },
      "source": [
        "# <b><u> Project Title : Taxi trip time Prediction : Predicting total ride duration of taxi trips in New York City</u></b>"
      ]
    },
    {
      "cell_type": "markdown",
      "metadata": {
        "id": "Y06xIdG26kRF"
      },
      "source": [
        "## <b> Problem Description </b>\n",
        "\n",
        "### Your task is to build a model that predicts the total ride duration of taxi trips in New York City. Your primary dataset is one released by the NYC Taxi and Limousine Commission, which includes pickup time, geo-coordinates, number of passengers, and several other variables."
      ]
    },
    {
      "cell_type": "markdown",
      "metadata": {
        "id": "WWeU1f9bwqQq"
      },
      "source": [
        "## <b> Data Description </b>\n",
        "\n",
        "### The dataset is based on the 2016 NYC Yellow Cab trip record data made available in Big Query on Google Cloud Platform. The data was originally published by the NYC Taxi and Limousine Commission (TLC). The data was sampled and cleaned for the purposes of this project. Based on individual trip attributes, you should predict the duration of each trip in the test set.\n",
        "\n",
        "### <b>NYC Taxi Data.csv</b> - the training set (contains 1458644 trip records)\n",
        "\n",
        "\n",
        "### Data fields\n",
        "* #### id - a unique identifier for each trip\n",
        "* #### vendor_id - a code indicating the provider associated with the trip record\n",
        "* #### pickup_datetime - date and time when the meter was engaged\n",
        "* #### dropoff_datetime - date and time when the meter was disengaged\n",
        "* #### passenger_count - the number of passengers in the vehicle (driver entered value)\n",
        "* #### pickup_longitude - the longitude where the meter was engaged\n",
        "* #### pickup_latitude - the latitude where the meter was engaged\n",
        "* #### dropoff_longitude - the longitude where the meter was disengaged\n",
        "* #### dropoff_latitude - the latitude where the meter was disengaged\n",
        "* #### store_and_fwd_flag - This flag indicates whether the trip record was held in vehicle memory before sending to the vendor because the vehicle did not have a connection to the server - Y=store and forward; N=not a store and forward trip\n",
        "* #### trip_duration - duration of the trip in seconds"
      ]
    },
    {
      "cell_type": "code",
      "execution_count": 1,
      "metadata": {
        "colab": {
          "base_uri": "https://localhost:8080/"
        },
        "id": "dByMsuzT8Tnw",
        "outputId": "1c13d3a2-4c28-40fc-aa58-82428821eb4d"
      },
      "outputs": [
        {
          "output_type": "stream",
          "name": "stdout",
          "text": [
            "Mounted at /content/drive/\n"
          ]
        }
      ],
      "source": [
        "from google.colab import drive\n",
        "drive.mount('/content/drive/')"
      ]
    },
    {
      "cell_type": "code",
      "execution_count": 2,
      "metadata": {
        "id": "wMdO5BwnaQQJ"
      },
      "outputs": [],
      "source": [
        "# Import Required Packages.\n",
        "import numpy as np\n",
        "import pandas as pd\n",
        "import seaborn as sns\n",
        "import matplotlib.pyplot as plt\n",
        "%matplotlib inline\n",
        "import datetime as dt\n",
        "import warnings\n",
        "warnings.filterwarnings(\"ignore\")"
      ]
    },
    {
      "cell_type": "markdown",
      "metadata": {
        "id": "juIALdwhMZse"
      },
      "source": [
        "**Data Exploration**"
      ]
    },
    {
      "cell_type": "code",
      "execution_count": 3,
      "metadata": {
        "id": "KgU9sCsJaeJr"
      },
      "outputs": [],
      "source": [
        "pd.set_option('display.float_format',  '{:,.2f}'.format)\n",
        "data_path = '/content/drive/MyDrive/NYC_TAXI_TRIP_TIME_PRED/NYC_Taxi_Data.csv'\n",
        "nyc_df = pd.read_csv(data_path)"
      ]
    },
    {
      "cell_type": "code",
      "execution_count": 4,
      "metadata": {
        "colab": {
          "base_uri": "https://localhost:8080/"
        },
        "id": "R1ZSRlXaeRYr",
        "outputId": "d8daafa8-1540-4655-8f72-01282c5af44a"
      },
      "outputs": [
        {
          "output_type": "stream",
          "name": "stdout",
          "text": [
            "The total number of rows are 1458644.\n",
            "The total number of columns are 11.\n"
          ]
        }
      ],
      "source": [
        "# Shape of dataset // nyc_df.shape\n",
        "print(f'The total number of rows are {nyc_df.shape[0]}.')\n",
        "print(f'The total number of columns are {nyc_df.shape[1]}.')"
      ]
    },
    {
      "cell_type": "code",
      "execution_count": 5,
      "metadata": {
        "colab": {
          "base_uri": "https://localhost:8080/"
        },
        "id": "r7JWq5xHfAn6",
        "outputId": "01589c41-6a27-489c-a9f1-11db785b1e69"
      },
      "outputs": [
        {
          "output_type": "stream",
          "name": "stdout",
          "text": [
            "<class 'pandas.core.frame.DataFrame'>\n",
            "RangeIndex: 1458644 entries, 0 to 1458643\n",
            "Data columns (total 11 columns):\n",
            " #   Column              Non-Null Count    Dtype  \n",
            "---  ------              --------------    -----  \n",
            " 0   id                  1458644 non-null  object \n",
            " 1   vendor_id           1458644 non-null  int64  \n",
            " 2   pickup_datetime     1458644 non-null  object \n",
            " 3   dropoff_datetime    1458644 non-null  object \n",
            " 4   passenger_count     1458644 non-null  int64  \n",
            " 5   pickup_longitude    1458644 non-null  float64\n",
            " 6   pickup_latitude     1458644 non-null  float64\n",
            " 7   dropoff_longitude   1458644 non-null  float64\n",
            " 8   dropoff_latitude    1458644 non-null  float64\n",
            " 9   store_and_fwd_flag  1458644 non-null  object \n",
            " 10  trip_duration       1458644 non-null  int64  \n",
            "dtypes: float64(4), int64(3), object(4)\n",
            "memory usage: 122.4+ MB\n"
          ]
        }
      ],
      "source": [
        "# Informatio about dataset. \n",
        "nyc_df.info()"
      ]
    },
    {
      "cell_type": "markdown",
      "metadata": {
        "id": "70FfEIDBjinw"
      },
      "source": [
        "In this NYC dataset, There are 1458644 entries and 11 columns. \n",
        "Out of total 11 columns- 'id', 'pickup datetime', 'drop off datetime' and 'store and fwd flag' are non numerical columns."
      ]
    },
    {
      "cell_type": "code",
      "execution_count": 6,
      "metadata": {
        "colab": {
          "base_uri": "https://localhost:8080/"
        },
        "id": "oWP1KWpIemH0",
        "outputId": "dd1846d6-74ec-4354-eb86-57ec10ed97ad"
      },
      "outputs": [
        {
          "output_type": "stream",
          "name": "stdout",
          "text": [
            "Index(['id', 'vendor_id', 'pickup_datetime', 'dropoff_datetime',\n",
            "       'passenger_count', 'pickup_longitude', 'pickup_latitude',\n",
            "       'dropoff_longitude', 'dropoff_latitude', 'store_and_fwd_flag',\n",
            "       'trip_duration'],\n",
            "      dtype='object')\n"
          ]
        }
      ],
      "source": [
        "# Column names\n",
        "print(nyc_df.columns)"
      ]
    },
    {
      "cell_type": "code",
      "execution_count": 7,
      "metadata": {
        "colab": {
          "base_uri": "https://localhost:8080/",
          "height": 357
        },
        "id": "JW1mRPuLeb7_",
        "outputId": "ef7447c7-84c5-4f2d-cf02-10df3e2e2af7"
      },
      "outputs": [
        {
          "output_type": "execute_result",
          "data": {
            "text/plain": [
              "          id  vendor_id      pickup_datetime     dropoff_datetime  \\\n",
              "0  id2875421          2  2016-03-14 17:24:55  2016-03-14 17:32:30   \n",
              "1  id2377394          1  2016-06-12 00:43:35  2016-06-12 00:54:38   \n",
              "2  id3858529          2  2016-01-19 11:35:24  2016-01-19 12:10:48   \n",
              "3  id3504673          2  2016-04-06 19:32:31  2016-04-06 19:39:40   \n",
              "4  id2181028          2  2016-03-26 13:30:55  2016-03-26 13:38:10   \n",
              "\n",
              "   passenger_count  pickup_longitude  pickup_latitude  dropoff_longitude  \\\n",
              "0                1            -73.98            40.77             -73.96   \n",
              "1                1            -73.98            40.74             -74.00   \n",
              "2                1            -73.98            40.76             -74.01   \n",
              "3                1            -74.01            40.72             -74.01   \n",
              "4                1            -73.97            40.79             -73.97   \n",
              "\n",
              "   dropoff_latitude store_and_fwd_flag  trip_duration  \n",
              "0             40.77                  N            455  \n",
              "1             40.73                  N            663  \n",
              "2             40.71                  N           2124  \n",
              "3             40.71                  N            429  \n",
              "4             40.78                  N            435  "
            ],
            "text/html": [
              "\n",
              "  <div id=\"df-05e34aba-b6e5-4771-a7ea-0b7d8b0b2dc9\">\n",
              "    <div class=\"colab-df-container\">\n",
              "      <div>\n",
              "<style scoped>\n",
              "    .dataframe tbody tr th:only-of-type {\n",
              "        vertical-align: middle;\n",
              "    }\n",
              "\n",
              "    .dataframe tbody tr th {\n",
              "        vertical-align: top;\n",
              "    }\n",
              "\n",
              "    .dataframe thead th {\n",
              "        text-align: right;\n",
              "    }\n",
              "</style>\n",
              "<table border=\"1\" class=\"dataframe\">\n",
              "  <thead>\n",
              "    <tr style=\"text-align: right;\">\n",
              "      <th></th>\n",
              "      <th>id</th>\n",
              "      <th>vendor_id</th>\n",
              "      <th>pickup_datetime</th>\n",
              "      <th>dropoff_datetime</th>\n",
              "      <th>passenger_count</th>\n",
              "      <th>pickup_longitude</th>\n",
              "      <th>pickup_latitude</th>\n",
              "      <th>dropoff_longitude</th>\n",
              "      <th>dropoff_latitude</th>\n",
              "      <th>store_and_fwd_flag</th>\n",
              "      <th>trip_duration</th>\n",
              "    </tr>\n",
              "  </thead>\n",
              "  <tbody>\n",
              "    <tr>\n",
              "      <th>0</th>\n",
              "      <td>id2875421</td>\n",
              "      <td>2</td>\n",
              "      <td>2016-03-14 17:24:55</td>\n",
              "      <td>2016-03-14 17:32:30</td>\n",
              "      <td>1</td>\n",
              "      <td>-73.98</td>\n",
              "      <td>40.77</td>\n",
              "      <td>-73.96</td>\n",
              "      <td>40.77</td>\n",
              "      <td>N</td>\n",
              "      <td>455</td>\n",
              "    </tr>\n",
              "    <tr>\n",
              "      <th>1</th>\n",
              "      <td>id2377394</td>\n",
              "      <td>1</td>\n",
              "      <td>2016-06-12 00:43:35</td>\n",
              "      <td>2016-06-12 00:54:38</td>\n",
              "      <td>1</td>\n",
              "      <td>-73.98</td>\n",
              "      <td>40.74</td>\n",
              "      <td>-74.00</td>\n",
              "      <td>40.73</td>\n",
              "      <td>N</td>\n",
              "      <td>663</td>\n",
              "    </tr>\n",
              "    <tr>\n",
              "      <th>2</th>\n",
              "      <td>id3858529</td>\n",
              "      <td>2</td>\n",
              "      <td>2016-01-19 11:35:24</td>\n",
              "      <td>2016-01-19 12:10:48</td>\n",
              "      <td>1</td>\n",
              "      <td>-73.98</td>\n",
              "      <td>40.76</td>\n",
              "      <td>-74.01</td>\n",
              "      <td>40.71</td>\n",
              "      <td>N</td>\n",
              "      <td>2124</td>\n",
              "    </tr>\n",
              "    <tr>\n",
              "      <th>3</th>\n",
              "      <td>id3504673</td>\n",
              "      <td>2</td>\n",
              "      <td>2016-04-06 19:32:31</td>\n",
              "      <td>2016-04-06 19:39:40</td>\n",
              "      <td>1</td>\n",
              "      <td>-74.01</td>\n",
              "      <td>40.72</td>\n",
              "      <td>-74.01</td>\n",
              "      <td>40.71</td>\n",
              "      <td>N</td>\n",
              "      <td>429</td>\n",
              "    </tr>\n",
              "    <tr>\n",
              "      <th>4</th>\n",
              "      <td>id2181028</td>\n",
              "      <td>2</td>\n",
              "      <td>2016-03-26 13:30:55</td>\n",
              "      <td>2016-03-26 13:38:10</td>\n",
              "      <td>1</td>\n",
              "      <td>-73.97</td>\n",
              "      <td>40.79</td>\n",
              "      <td>-73.97</td>\n",
              "      <td>40.78</td>\n",
              "      <td>N</td>\n",
              "      <td>435</td>\n",
              "    </tr>\n",
              "  </tbody>\n",
              "</table>\n",
              "</div>\n",
              "      <button class=\"colab-df-convert\" onclick=\"convertToInteractive('df-05e34aba-b6e5-4771-a7ea-0b7d8b0b2dc9')\"\n",
              "              title=\"Convert this dataframe to an interactive table.\"\n",
              "              style=\"display:none;\">\n",
              "        \n",
              "  <svg xmlns=\"http://www.w3.org/2000/svg\" height=\"24px\"viewBox=\"0 0 24 24\"\n",
              "       width=\"24px\">\n",
              "    <path d=\"M0 0h24v24H0V0z\" fill=\"none\"/>\n",
              "    <path d=\"M18.56 5.44l.94 2.06.94-2.06 2.06-.94-2.06-.94-.94-2.06-.94 2.06-2.06.94zm-11 1L8.5 8.5l.94-2.06 2.06-.94-2.06-.94L8.5 2.5l-.94 2.06-2.06.94zm10 10l.94 2.06.94-2.06 2.06-.94-2.06-.94-.94-2.06-.94 2.06-2.06.94z\"/><path d=\"M17.41 7.96l-1.37-1.37c-.4-.4-.92-.59-1.43-.59-.52 0-1.04.2-1.43.59L10.3 9.45l-7.72 7.72c-.78.78-.78 2.05 0 2.83L4 21.41c.39.39.9.59 1.41.59.51 0 1.02-.2 1.41-.59l7.78-7.78 2.81-2.81c.8-.78.8-2.07 0-2.86zM5.41 20L4 18.59l7.72-7.72 1.47 1.35L5.41 20z\"/>\n",
              "  </svg>\n",
              "      </button>\n",
              "      \n",
              "  <style>\n",
              "    .colab-df-container {\n",
              "      display:flex;\n",
              "      flex-wrap:wrap;\n",
              "      gap: 12px;\n",
              "    }\n",
              "\n",
              "    .colab-df-convert {\n",
              "      background-color: #E8F0FE;\n",
              "      border: none;\n",
              "      border-radius: 50%;\n",
              "      cursor: pointer;\n",
              "      display: none;\n",
              "      fill: #1967D2;\n",
              "      height: 32px;\n",
              "      padding: 0 0 0 0;\n",
              "      width: 32px;\n",
              "    }\n",
              "\n",
              "    .colab-df-convert:hover {\n",
              "      background-color: #E2EBFA;\n",
              "      box-shadow: 0px 1px 2px rgba(60, 64, 67, 0.3), 0px 1px 3px 1px rgba(60, 64, 67, 0.15);\n",
              "      fill: #174EA6;\n",
              "    }\n",
              "\n",
              "    [theme=dark] .colab-df-convert {\n",
              "      background-color: #3B4455;\n",
              "      fill: #D2E3FC;\n",
              "    }\n",
              "\n",
              "    [theme=dark] .colab-df-convert:hover {\n",
              "      background-color: #434B5C;\n",
              "      box-shadow: 0px 1px 3px 1px rgba(0, 0, 0, 0.15);\n",
              "      filter: drop-shadow(0px 1px 2px rgba(0, 0, 0, 0.3));\n",
              "      fill: #FFFFFF;\n",
              "    }\n",
              "  </style>\n",
              "\n",
              "      <script>\n",
              "        const buttonEl =\n",
              "          document.querySelector('#df-05e34aba-b6e5-4771-a7ea-0b7d8b0b2dc9 button.colab-df-convert');\n",
              "        buttonEl.style.display =\n",
              "          google.colab.kernel.accessAllowed ? 'block' : 'none';\n",
              "\n",
              "        async function convertToInteractive(key) {\n",
              "          const element = document.querySelector('#df-05e34aba-b6e5-4771-a7ea-0b7d8b0b2dc9');\n",
              "          const dataTable =\n",
              "            await google.colab.kernel.invokeFunction('convertToInteractive',\n",
              "                                                     [key], {});\n",
              "          if (!dataTable) return;\n",
              "\n",
              "          const docLinkHtml = 'Like what you see? Visit the ' +\n",
              "            '<a target=\"_blank\" href=https://colab.research.google.com/notebooks/data_table.ipynb>data table notebook</a>'\n",
              "            + ' to learn more about interactive tables.';\n",
              "          element.innerHTML = '';\n",
              "          dataTable['output_type'] = 'display_data';\n",
              "          await google.colab.output.renderOutput(dataTable, element);\n",
              "          const docLink = document.createElement('div');\n",
              "          docLink.innerHTML = docLinkHtml;\n",
              "          element.appendChild(docLink);\n",
              "        }\n",
              "      </script>\n",
              "    </div>\n",
              "  </div>\n",
              "  "
            ]
          },
          "metadata": {},
          "execution_count": 7
        }
      ],
      "source": [
        "# First 5 rows of dataset\n",
        "nyc_df.head(5)"
      ]
    },
    {
      "cell_type": "code",
      "execution_count": 8,
      "metadata": {
        "colab": {
          "base_uri": "https://localhost:8080/",
          "height": 357
        },
        "id": "8UBXYMrdiRaZ",
        "outputId": "3c9177b4-f584-42ba-e955-0b57252dfeff"
      },
      "outputs": [
        {
          "output_type": "execute_result",
          "data": {
            "text/plain": [
              "                id  vendor_id      pickup_datetime     dropoff_datetime  \\\n",
              "1458639  id2376096          2  2016-04-08 13:31:04  2016-04-08 13:44:02   \n",
              "1458640  id1049543          1  2016-01-10 07:35:15  2016-01-10 07:46:10   \n",
              "1458641  id2304944          2  2016-04-22 06:57:41  2016-04-22 07:10:25   \n",
              "1458642  id2714485          1  2016-01-05 15:56:26  2016-01-05 16:02:39   \n",
              "1458643  id1209952          1  2016-04-05 14:44:25  2016-04-05 14:47:43   \n",
              "\n",
              "         passenger_count  pickup_longitude  pickup_latitude  \\\n",
              "1458639                4            -73.98            40.75   \n",
              "1458640                1            -74.00            40.75   \n",
              "1458641                1            -73.96            40.77   \n",
              "1458642                1            -73.98            40.75   \n",
              "1458643                1            -73.98            40.78   \n",
              "\n",
              "         dropoff_longitude  dropoff_latitude store_and_fwd_flag  trip_duration  \n",
              "1458639             -73.99             40.74                  N            778  \n",
              "1458640             -73.97             40.80                  N            655  \n",
              "1458641             -74.00             40.71                  N            764  \n",
              "1458642             -73.97             40.76                  N            373  \n",
              "1458643             -73.97             40.79                  N            198  "
            ],
            "text/html": [
              "\n",
              "  <div id=\"df-7add56b7-2584-49b2-903d-095471eabf97\">\n",
              "    <div class=\"colab-df-container\">\n",
              "      <div>\n",
              "<style scoped>\n",
              "    .dataframe tbody tr th:only-of-type {\n",
              "        vertical-align: middle;\n",
              "    }\n",
              "\n",
              "    .dataframe tbody tr th {\n",
              "        vertical-align: top;\n",
              "    }\n",
              "\n",
              "    .dataframe thead th {\n",
              "        text-align: right;\n",
              "    }\n",
              "</style>\n",
              "<table border=\"1\" class=\"dataframe\">\n",
              "  <thead>\n",
              "    <tr style=\"text-align: right;\">\n",
              "      <th></th>\n",
              "      <th>id</th>\n",
              "      <th>vendor_id</th>\n",
              "      <th>pickup_datetime</th>\n",
              "      <th>dropoff_datetime</th>\n",
              "      <th>passenger_count</th>\n",
              "      <th>pickup_longitude</th>\n",
              "      <th>pickup_latitude</th>\n",
              "      <th>dropoff_longitude</th>\n",
              "      <th>dropoff_latitude</th>\n",
              "      <th>store_and_fwd_flag</th>\n",
              "      <th>trip_duration</th>\n",
              "    </tr>\n",
              "  </thead>\n",
              "  <tbody>\n",
              "    <tr>\n",
              "      <th>1458639</th>\n",
              "      <td>id2376096</td>\n",
              "      <td>2</td>\n",
              "      <td>2016-04-08 13:31:04</td>\n",
              "      <td>2016-04-08 13:44:02</td>\n",
              "      <td>4</td>\n",
              "      <td>-73.98</td>\n",
              "      <td>40.75</td>\n",
              "      <td>-73.99</td>\n",
              "      <td>40.74</td>\n",
              "      <td>N</td>\n",
              "      <td>778</td>\n",
              "    </tr>\n",
              "    <tr>\n",
              "      <th>1458640</th>\n",
              "      <td>id1049543</td>\n",
              "      <td>1</td>\n",
              "      <td>2016-01-10 07:35:15</td>\n",
              "      <td>2016-01-10 07:46:10</td>\n",
              "      <td>1</td>\n",
              "      <td>-74.00</td>\n",
              "      <td>40.75</td>\n",
              "      <td>-73.97</td>\n",
              "      <td>40.80</td>\n",
              "      <td>N</td>\n",
              "      <td>655</td>\n",
              "    </tr>\n",
              "    <tr>\n",
              "      <th>1458641</th>\n",
              "      <td>id2304944</td>\n",
              "      <td>2</td>\n",
              "      <td>2016-04-22 06:57:41</td>\n",
              "      <td>2016-04-22 07:10:25</td>\n",
              "      <td>1</td>\n",
              "      <td>-73.96</td>\n",
              "      <td>40.77</td>\n",
              "      <td>-74.00</td>\n",
              "      <td>40.71</td>\n",
              "      <td>N</td>\n",
              "      <td>764</td>\n",
              "    </tr>\n",
              "    <tr>\n",
              "      <th>1458642</th>\n",
              "      <td>id2714485</td>\n",
              "      <td>1</td>\n",
              "      <td>2016-01-05 15:56:26</td>\n",
              "      <td>2016-01-05 16:02:39</td>\n",
              "      <td>1</td>\n",
              "      <td>-73.98</td>\n",
              "      <td>40.75</td>\n",
              "      <td>-73.97</td>\n",
              "      <td>40.76</td>\n",
              "      <td>N</td>\n",
              "      <td>373</td>\n",
              "    </tr>\n",
              "    <tr>\n",
              "      <th>1458643</th>\n",
              "      <td>id1209952</td>\n",
              "      <td>1</td>\n",
              "      <td>2016-04-05 14:44:25</td>\n",
              "      <td>2016-04-05 14:47:43</td>\n",
              "      <td>1</td>\n",
              "      <td>-73.98</td>\n",
              "      <td>40.78</td>\n",
              "      <td>-73.97</td>\n",
              "      <td>40.79</td>\n",
              "      <td>N</td>\n",
              "      <td>198</td>\n",
              "    </tr>\n",
              "  </tbody>\n",
              "</table>\n",
              "</div>\n",
              "      <button class=\"colab-df-convert\" onclick=\"convertToInteractive('df-7add56b7-2584-49b2-903d-095471eabf97')\"\n",
              "              title=\"Convert this dataframe to an interactive table.\"\n",
              "              style=\"display:none;\">\n",
              "        \n",
              "  <svg xmlns=\"http://www.w3.org/2000/svg\" height=\"24px\"viewBox=\"0 0 24 24\"\n",
              "       width=\"24px\">\n",
              "    <path d=\"M0 0h24v24H0V0z\" fill=\"none\"/>\n",
              "    <path d=\"M18.56 5.44l.94 2.06.94-2.06 2.06-.94-2.06-.94-.94-2.06-.94 2.06-2.06.94zm-11 1L8.5 8.5l.94-2.06 2.06-.94-2.06-.94L8.5 2.5l-.94 2.06-2.06.94zm10 10l.94 2.06.94-2.06 2.06-.94-2.06-.94-.94-2.06-.94 2.06-2.06.94z\"/><path d=\"M17.41 7.96l-1.37-1.37c-.4-.4-.92-.59-1.43-.59-.52 0-1.04.2-1.43.59L10.3 9.45l-7.72 7.72c-.78.78-.78 2.05 0 2.83L4 21.41c.39.39.9.59 1.41.59.51 0 1.02-.2 1.41-.59l7.78-7.78 2.81-2.81c.8-.78.8-2.07 0-2.86zM5.41 20L4 18.59l7.72-7.72 1.47 1.35L5.41 20z\"/>\n",
              "  </svg>\n",
              "      </button>\n",
              "      \n",
              "  <style>\n",
              "    .colab-df-container {\n",
              "      display:flex;\n",
              "      flex-wrap:wrap;\n",
              "      gap: 12px;\n",
              "    }\n",
              "\n",
              "    .colab-df-convert {\n",
              "      background-color: #E8F0FE;\n",
              "      border: none;\n",
              "      border-radius: 50%;\n",
              "      cursor: pointer;\n",
              "      display: none;\n",
              "      fill: #1967D2;\n",
              "      height: 32px;\n",
              "      padding: 0 0 0 0;\n",
              "      width: 32px;\n",
              "    }\n",
              "\n",
              "    .colab-df-convert:hover {\n",
              "      background-color: #E2EBFA;\n",
              "      box-shadow: 0px 1px 2px rgba(60, 64, 67, 0.3), 0px 1px 3px 1px rgba(60, 64, 67, 0.15);\n",
              "      fill: #174EA6;\n",
              "    }\n",
              "\n",
              "    [theme=dark] .colab-df-convert {\n",
              "      background-color: #3B4455;\n",
              "      fill: #D2E3FC;\n",
              "    }\n",
              "\n",
              "    [theme=dark] .colab-df-convert:hover {\n",
              "      background-color: #434B5C;\n",
              "      box-shadow: 0px 1px 3px 1px rgba(0, 0, 0, 0.15);\n",
              "      filter: drop-shadow(0px 1px 2px rgba(0, 0, 0, 0.3));\n",
              "      fill: #FFFFFF;\n",
              "    }\n",
              "  </style>\n",
              "\n",
              "      <script>\n",
              "        const buttonEl =\n",
              "          document.querySelector('#df-7add56b7-2584-49b2-903d-095471eabf97 button.colab-df-convert');\n",
              "        buttonEl.style.display =\n",
              "          google.colab.kernel.accessAllowed ? 'block' : 'none';\n",
              "\n",
              "        async function convertToInteractive(key) {\n",
              "          const element = document.querySelector('#df-7add56b7-2584-49b2-903d-095471eabf97');\n",
              "          const dataTable =\n",
              "            await google.colab.kernel.invokeFunction('convertToInteractive',\n",
              "                                                     [key], {});\n",
              "          if (!dataTable) return;\n",
              "\n",
              "          const docLinkHtml = 'Like what you see? Visit the ' +\n",
              "            '<a target=\"_blank\" href=https://colab.research.google.com/notebooks/data_table.ipynb>data table notebook</a>'\n",
              "            + ' to learn more about interactive tables.';\n",
              "          element.innerHTML = '';\n",
              "          dataTable['output_type'] = 'display_data';\n",
              "          await google.colab.output.renderOutput(dataTable, element);\n",
              "          const docLink = document.createElement('div');\n",
              "          docLink.innerHTML = docLinkHtml;\n",
              "          element.appendChild(docLink);\n",
              "        }\n",
              "      </script>\n",
              "    </div>\n",
              "  </div>\n",
              "  "
            ]
          },
          "metadata": {},
          "execution_count": 8
        }
      ],
      "source": [
        "# Last 5 rows of dataset\n",
        "nyc_df.tail()"
      ]
    },
    {
      "cell_type": "code",
      "execution_count": 9,
      "metadata": {
        "colab": {
          "base_uri": "https://localhost:8080/"
        },
        "id": "5v-9M49DfP2v",
        "outputId": "f2a79cad-b267-4687-9eb9-7658bbd43fe3"
      },
      "outputs": [
        {
          "output_type": "stream",
          "name": "stdout",
          "text": [
            "Null count of values by column wise.\n"
          ]
        },
        {
          "output_type": "execute_result",
          "data": {
            "text/plain": [
              "id                    0\n",
              "vendor_id             0\n",
              "pickup_datetime       0\n",
              "dropoff_datetime      0\n",
              "passenger_count       0\n",
              "pickup_longitude      0\n",
              "pickup_latitude       0\n",
              "dropoff_longitude     0\n",
              "dropoff_latitude      0\n",
              "store_and_fwd_flag    0\n",
              "trip_duration         0\n",
              "dtype: int64"
            ]
          },
          "metadata": {},
          "execution_count": 9
        }
      ],
      "source": [
        "# Checking null values in nyc_df\n",
        "print(f'Null count of values by column wise.')\n",
        "nyc_df.isnull().sum()"
      ]
    },
    {
      "cell_type": "markdown",
      "metadata": {
        "id": "lQrg4yJ4bnja"
      },
      "source": [
        "There are no null values in any column."
      ]
    },
    {
      "cell_type": "code",
      "execution_count": 10,
      "metadata": {
        "colab": {
          "base_uri": "https://localhost:8080/"
        },
        "id": "T8oyEwJPfZ5H",
        "outputId": "8829f627-6ceb-4a47-f483-a0104fa8e5be"
      },
      "outputs": [
        {
          "output_type": "stream",
          "name": "stdout",
          "text": [
            "Total duplicated entries in id column 0.\n"
          ]
        }
      ],
      "source": [
        "# Checking duplicated ids in id column\n",
        "duplicated_count = nyc_df.duplicated(subset = 'id').sum()\n",
        "print(f'Total duplicated entries in id column {duplicated_count}.')"
      ]
    },
    {
      "cell_type": "markdown",
      "metadata": {
        "id": "f2CjnOviMm66"
      },
      "source": [
        "**Descriptive Analysis**"
      ]
    },
    {
      "cell_type": "code",
      "execution_count": 11,
      "metadata": {
        "colab": {
          "base_uri": "https://localhost:8080/",
          "height": 300
        },
        "id": "FzogVte6hCju",
        "outputId": "d8f24164-2240-4691-bec4-0f116af897b6"
      },
      "outputs": [
        {
          "output_type": "execute_result",
          "data": {
            "text/plain": [
              "         vendor_id  passenger_count  pickup_longitude  pickup_latitude  \\\n",
              "count 1,458,644.00     1,458,644.00      1,458,644.00     1,458,644.00   \n",
              "mean          1.53             1.66            -73.97            40.75   \n",
              "std           0.50             1.31              0.07             0.03   \n",
              "min           1.00             0.00           -121.93            34.36   \n",
              "25%           1.00             1.00            -73.99            40.74   \n",
              "50%           2.00             1.00            -73.98            40.75   \n",
              "75%           2.00             2.00            -73.97            40.77   \n",
              "max           2.00             9.00            -61.34            51.88   \n",
              "\n",
              "       dropoff_longitude  dropoff_latitude  trip_duration  \n",
              "count       1,458,644.00      1,458,644.00   1,458,644.00  \n",
              "mean              -73.97             40.75         959.49  \n",
              "std                 0.07              0.04       5,237.43  \n",
              "min              -121.93             32.18           1.00  \n",
              "25%               -73.99             40.74         397.00  \n",
              "50%               -73.98             40.75         662.00  \n",
              "75%               -73.96             40.77       1,075.00  \n",
              "max               -61.34             43.92   3,526,282.00  "
            ],
            "text/html": [
              "\n",
              "  <div id=\"df-c8599029-c633-4f8e-9c91-f2a8304169f2\">\n",
              "    <div class=\"colab-df-container\">\n",
              "      <div>\n",
              "<style scoped>\n",
              "    .dataframe tbody tr th:only-of-type {\n",
              "        vertical-align: middle;\n",
              "    }\n",
              "\n",
              "    .dataframe tbody tr th {\n",
              "        vertical-align: top;\n",
              "    }\n",
              "\n",
              "    .dataframe thead th {\n",
              "        text-align: right;\n",
              "    }\n",
              "</style>\n",
              "<table border=\"1\" class=\"dataframe\">\n",
              "  <thead>\n",
              "    <tr style=\"text-align: right;\">\n",
              "      <th></th>\n",
              "      <th>vendor_id</th>\n",
              "      <th>passenger_count</th>\n",
              "      <th>pickup_longitude</th>\n",
              "      <th>pickup_latitude</th>\n",
              "      <th>dropoff_longitude</th>\n",
              "      <th>dropoff_latitude</th>\n",
              "      <th>trip_duration</th>\n",
              "    </tr>\n",
              "  </thead>\n",
              "  <tbody>\n",
              "    <tr>\n",
              "      <th>count</th>\n",
              "      <td>1,458,644.00</td>\n",
              "      <td>1,458,644.00</td>\n",
              "      <td>1,458,644.00</td>\n",
              "      <td>1,458,644.00</td>\n",
              "      <td>1,458,644.00</td>\n",
              "      <td>1,458,644.00</td>\n",
              "      <td>1,458,644.00</td>\n",
              "    </tr>\n",
              "    <tr>\n",
              "      <th>mean</th>\n",
              "      <td>1.53</td>\n",
              "      <td>1.66</td>\n",
              "      <td>-73.97</td>\n",
              "      <td>40.75</td>\n",
              "      <td>-73.97</td>\n",
              "      <td>40.75</td>\n",
              "      <td>959.49</td>\n",
              "    </tr>\n",
              "    <tr>\n",
              "      <th>std</th>\n",
              "      <td>0.50</td>\n",
              "      <td>1.31</td>\n",
              "      <td>0.07</td>\n",
              "      <td>0.03</td>\n",
              "      <td>0.07</td>\n",
              "      <td>0.04</td>\n",
              "      <td>5,237.43</td>\n",
              "    </tr>\n",
              "    <tr>\n",
              "      <th>min</th>\n",
              "      <td>1.00</td>\n",
              "      <td>0.00</td>\n",
              "      <td>-121.93</td>\n",
              "      <td>34.36</td>\n",
              "      <td>-121.93</td>\n",
              "      <td>32.18</td>\n",
              "      <td>1.00</td>\n",
              "    </tr>\n",
              "    <tr>\n",
              "      <th>25%</th>\n",
              "      <td>1.00</td>\n",
              "      <td>1.00</td>\n",
              "      <td>-73.99</td>\n",
              "      <td>40.74</td>\n",
              "      <td>-73.99</td>\n",
              "      <td>40.74</td>\n",
              "      <td>397.00</td>\n",
              "    </tr>\n",
              "    <tr>\n",
              "      <th>50%</th>\n",
              "      <td>2.00</td>\n",
              "      <td>1.00</td>\n",
              "      <td>-73.98</td>\n",
              "      <td>40.75</td>\n",
              "      <td>-73.98</td>\n",
              "      <td>40.75</td>\n",
              "      <td>662.00</td>\n",
              "    </tr>\n",
              "    <tr>\n",
              "      <th>75%</th>\n",
              "      <td>2.00</td>\n",
              "      <td>2.00</td>\n",
              "      <td>-73.97</td>\n",
              "      <td>40.77</td>\n",
              "      <td>-73.96</td>\n",
              "      <td>40.77</td>\n",
              "      <td>1,075.00</td>\n",
              "    </tr>\n",
              "    <tr>\n",
              "      <th>max</th>\n",
              "      <td>2.00</td>\n",
              "      <td>9.00</td>\n",
              "      <td>-61.34</td>\n",
              "      <td>51.88</td>\n",
              "      <td>-61.34</td>\n",
              "      <td>43.92</td>\n",
              "      <td>3,526,282.00</td>\n",
              "    </tr>\n",
              "  </tbody>\n",
              "</table>\n",
              "</div>\n",
              "      <button class=\"colab-df-convert\" onclick=\"convertToInteractive('df-c8599029-c633-4f8e-9c91-f2a8304169f2')\"\n",
              "              title=\"Convert this dataframe to an interactive table.\"\n",
              "              style=\"display:none;\">\n",
              "        \n",
              "  <svg xmlns=\"http://www.w3.org/2000/svg\" height=\"24px\"viewBox=\"0 0 24 24\"\n",
              "       width=\"24px\">\n",
              "    <path d=\"M0 0h24v24H0V0z\" fill=\"none\"/>\n",
              "    <path d=\"M18.56 5.44l.94 2.06.94-2.06 2.06-.94-2.06-.94-.94-2.06-.94 2.06-2.06.94zm-11 1L8.5 8.5l.94-2.06 2.06-.94-2.06-.94L8.5 2.5l-.94 2.06-2.06.94zm10 10l.94 2.06.94-2.06 2.06-.94-2.06-.94-.94-2.06-.94 2.06-2.06.94z\"/><path d=\"M17.41 7.96l-1.37-1.37c-.4-.4-.92-.59-1.43-.59-.52 0-1.04.2-1.43.59L10.3 9.45l-7.72 7.72c-.78.78-.78 2.05 0 2.83L4 21.41c.39.39.9.59 1.41.59.51 0 1.02-.2 1.41-.59l7.78-7.78 2.81-2.81c.8-.78.8-2.07 0-2.86zM5.41 20L4 18.59l7.72-7.72 1.47 1.35L5.41 20z\"/>\n",
              "  </svg>\n",
              "      </button>\n",
              "      \n",
              "  <style>\n",
              "    .colab-df-container {\n",
              "      display:flex;\n",
              "      flex-wrap:wrap;\n",
              "      gap: 12px;\n",
              "    }\n",
              "\n",
              "    .colab-df-convert {\n",
              "      background-color: #E8F0FE;\n",
              "      border: none;\n",
              "      border-radius: 50%;\n",
              "      cursor: pointer;\n",
              "      display: none;\n",
              "      fill: #1967D2;\n",
              "      height: 32px;\n",
              "      padding: 0 0 0 0;\n",
              "      width: 32px;\n",
              "    }\n",
              "\n",
              "    .colab-df-convert:hover {\n",
              "      background-color: #E2EBFA;\n",
              "      box-shadow: 0px 1px 2px rgba(60, 64, 67, 0.3), 0px 1px 3px 1px rgba(60, 64, 67, 0.15);\n",
              "      fill: #174EA6;\n",
              "    }\n",
              "\n",
              "    [theme=dark] .colab-df-convert {\n",
              "      background-color: #3B4455;\n",
              "      fill: #D2E3FC;\n",
              "    }\n",
              "\n",
              "    [theme=dark] .colab-df-convert:hover {\n",
              "      background-color: #434B5C;\n",
              "      box-shadow: 0px 1px 3px 1px rgba(0, 0, 0, 0.15);\n",
              "      filter: drop-shadow(0px 1px 2px rgba(0, 0, 0, 0.3));\n",
              "      fill: #FFFFFF;\n",
              "    }\n",
              "  </style>\n",
              "\n",
              "      <script>\n",
              "        const buttonEl =\n",
              "          document.querySelector('#df-c8599029-c633-4f8e-9c91-f2a8304169f2 button.colab-df-convert');\n",
              "        buttonEl.style.display =\n",
              "          google.colab.kernel.accessAllowed ? 'block' : 'none';\n",
              "\n",
              "        async function convertToInteractive(key) {\n",
              "          const element = document.querySelector('#df-c8599029-c633-4f8e-9c91-f2a8304169f2');\n",
              "          const dataTable =\n",
              "            await google.colab.kernel.invokeFunction('convertToInteractive',\n",
              "                                                     [key], {});\n",
              "          if (!dataTable) return;\n",
              "\n",
              "          const docLinkHtml = 'Like what you see? Visit the ' +\n",
              "            '<a target=\"_blank\" href=https://colab.research.google.com/notebooks/data_table.ipynb>data table notebook</a>'\n",
              "            + ' to learn more about interactive tables.';\n",
              "          element.innerHTML = '';\n",
              "          dataTable['output_type'] = 'display_data';\n",
              "          await google.colab.output.renderOutput(dataTable, element);\n",
              "          const docLink = document.createElement('div');\n",
              "          docLink.innerHTML = docLinkHtml;\n",
              "          element.appendChild(docLink);\n",
              "        }\n",
              "      </script>\n",
              "    </div>\n",
              "  </div>\n",
              "  "
            ]
          },
          "metadata": {},
          "execution_count": 11
        }
      ],
      "source": [
        "# Description of numerical columns\n",
        "nyc_df.describe()"
      ]
    },
    {
      "cell_type": "markdown",
      "metadata": {
        "id": "uq9bJoqHceWP"
      },
      "source": [
        "In this dataset the passenger count column has maximum 9 passenger. Minimum 1 which is most common thing to see. Trip duration is also 1 second which is not possible for a successful trip and 3526282 seconds which very high."
      ]
    },
    {
      "cell_type": "code",
      "execution_count": 12,
      "metadata": {
        "colab": {
          "base_uri": "https://localhost:8080/"
        },
        "id": "0KVkjGnWb5eC",
        "outputId": "1e1ef564-b822-46c7-d827-75a665dba47e"
      },
      "outputs": [
        {
          "output_type": "execute_result",
          "data": {
            "text/plain": [
              "id                    1458644\n",
              "vendor_id                   2\n",
              "pickup_datetime       1380222\n",
              "dropoff_datetime      1380377\n",
              "passenger_count            10\n",
              "pickup_longitude        23047\n",
              "pickup_latitude         45245\n",
              "dropoff_longitude       33821\n",
              "dropoff_latitude        62519\n",
              "store_and_fwd_flag          2\n",
              "trip_duration            7417\n",
              "dtype: int64"
            ]
          },
          "metadata": {},
          "execution_count": 12
        }
      ],
      "source": [
        "# Count of unique entries in each column.\n",
        "nyc_df.nunique()"
      ]
    },
    {
      "cell_type": "markdown",
      "metadata": {
        "id": "kVDWiFGYM1N_"
      },
      "source": [
        "**Data Processing and Feature Creation**"
      ]
    },
    {
      "cell_type": "code",
      "execution_count": 13,
      "metadata": {
        "id": "1sDCt91Xh8bx"
      },
      "outputs": [],
      "source": [
        "# Changing datetime data type to datetime for feature creation\n",
        "nyc_df['pickup_datetime']=pd.to_datetime(nyc_df['pickup_datetime'])\n",
        "nyc_df['dropoff_datetime']=pd.to_datetime(nyc_df['dropoff_datetime'])"
      ]
    },
    {
      "cell_type": "code",
      "execution_count": 14,
      "metadata": {
        "id": "_ORARZDggeLt"
      },
      "outputs": [],
      "source": [
        "# Few new feartures created and added in dataframe\n",
        "nyc_df['pickup_day']=nyc_df['pickup_datetime'].dt.day_name()\n",
        "nyc_df['dropoff_day']=nyc_df['dropoff_datetime'].dt.day_name()\n",
        "nyc_df['pickup_month']=nyc_df['pickup_datetime'].dt.month\n",
        "nyc_df['dropoff_month']=nyc_df['dropoff_datetime'].dt.month\n",
        "nyc_df['pickup_hr']=nyc_df['pickup_datetime'].dt.hour\n",
        "nyc_df['dropoff_hour']=nyc_df['dropoff_datetime'].dt.hour"
      ]
    },
    {
      "cell_type": "code",
      "execution_count": 15,
      "metadata": {
        "colab": {
          "base_uri": "https://localhost:8080/"
        },
        "id": "7frWx47koYbd",
        "outputId": "3ffbfc21-b2a6-48c4-9fdc-f99f0dc3cb13"
      },
      "outputs": [
        {
          "output_type": "stream",
          "name": "stdout",
          "text": [
            "Collecting haversine\n",
            "  Downloading haversine-2.5.1-py2.py3-none-any.whl (6.1 kB)\n",
            "Installing collected packages: haversine\n",
            "Successfully installed haversine-2.5.1\n"
          ]
        }
      ],
      "source": [
        "# Gives great circle between on sphere when coordinates available\n",
        "!pip install haversine\n",
        "from haversine import haversine"
      ]
    },
    {
      "cell_type": "code",
      "execution_count": 16,
      "metadata": {
        "id": "fYl5RxCxo4uX"
      },
      "outputs": [],
      "source": [
        "# Created a function to calculate a haversine distance\n",
        "def calculate_distance(pickup_lat, pickup_long, droppff_lat, dropoff_long):\n",
        "  start_coordinates=(pickup_lat, pickup_long)\n",
        "  stop_coordinates=(droppff_lat, dropoff_long)\n",
        "  return haversine(start_coordinates, stop_coordinates)"
      ]
    },
    {
      "cell_type": "code",
      "execution_count": 17,
      "metadata": {
        "id": "V5iRUF_8rK9L"
      },
      "outputs": [],
      "source": [
        "# Distance in km feature added in dataframe.\n",
        "nyc_df['distance'] =nyc_df.apply(lambda x: calculate_distance(x['pickup_latitude'], x['pickup_longitude'], x['dropoff_latitude'], x['dropoff_longitude']), axis = 1)"
      ]
    },
    {
      "cell_type": "code",
      "execution_count": 18,
      "metadata": {
        "id": "tGAefpICuu7l"
      },
      "outputs": [],
      "source": [
        "# Added speed colum to undestand the speed of trips.(km/hr)\n",
        "nyc_df['speed'] = (nyc_df['distance']/(nyc_df['trip_duration']/3600))"
      ]
    },
    {
      "cell_type": "code",
      "execution_count": 19,
      "metadata": {
        "id": "x3v2aLtGXIYd"
      },
      "outputs": [],
      "source": [
        "# Converting seconds in hr\n",
        "nyc_df['trip_duration_hour']=nyc_df['trip_duration']/3600 "
      ]
    },
    {
      "cell_type": "code",
      "execution_count": 20,
      "metadata": {
        "colab": {
          "base_uri": "https://localhost:8080/"
        },
        "id": "14k8WDmRrjvN",
        "outputId": "336c7f6a-bc4d-4b0b-f035-504cfdb64560"
      },
      "outputs": [
        {
          "output_type": "execute_result",
          "data": {
            "text/plain": [
              "Index(['id', 'vendor_id', 'pickup_datetime', 'dropoff_datetime',\n",
              "       'passenger_count', 'pickup_longitude', 'pickup_latitude',\n",
              "       'dropoff_longitude', 'dropoff_latitude', 'store_and_fwd_flag',\n",
              "       'trip_duration', 'pickup_day', 'dropoff_day', 'pickup_month',\n",
              "       'dropoff_month', 'pickup_hr', 'dropoff_hour', 'distance', 'speed',\n",
              "       'trip_duration_hour'],\n",
              "      dtype='object')"
            ]
          },
          "metadata": {},
          "execution_count": 20
        }
      ],
      "source": [
        "# Lets see newly added columns in dataframe\n",
        "nyc_df.columns"
      ]
    },
    {
      "cell_type": "markdown",
      "metadata": {
        "id": "zKER3BNXsfj2"
      },
      "source": [
        "***Visualization and Analysis***"
      ]
    },
    {
      "cell_type": "code",
      "execution_count": 21,
      "metadata": {
        "colab": {
          "base_uri": "https://localhost:8080/",
          "height": 112
        },
        "id": "ZeKZNU3CvBsO",
        "outputId": "9b5b24c9-2f2a-45d6-9eb0-0901819b54c9"
      },
      "outputs": [
        {
          "output_type": "execute_result",
          "data": {
            "text/plain": [
              "   vendor_id\n",
              "2     780302\n",
              "1     678342"
            ],
            "text/html": [
              "\n",
              "  <div id=\"df-0da25eb2-dd85-454d-9b01-d7ae6719d63e\">\n",
              "    <div class=\"colab-df-container\">\n",
              "      <div>\n",
              "<style scoped>\n",
              "    .dataframe tbody tr th:only-of-type {\n",
              "        vertical-align: middle;\n",
              "    }\n",
              "\n",
              "    .dataframe tbody tr th {\n",
              "        vertical-align: top;\n",
              "    }\n",
              "\n",
              "    .dataframe thead th {\n",
              "        text-align: right;\n",
              "    }\n",
              "</style>\n",
              "<table border=\"1\" class=\"dataframe\">\n",
              "  <thead>\n",
              "    <tr style=\"text-align: right;\">\n",
              "      <th></th>\n",
              "      <th>vendor_id</th>\n",
              "    </tr>\n",
              "  </thead>\n",
              "  <tbody>\n",
              "    <tr>\n",
              "      <th>2</th>\n",
              "      <td>780302</td>\n",
              "    </tr>\n",
              "    <tr>\n",
              "      <th>1</th>\n",
              "      <td>678342</td>\n",
              "    </tr>\n",
              "  </tbody>\n",
              "</table>\n",
              "</div>\n",
              "      <button class=\"colab-df-convert\" onclick=\"convertToInteractive('df-0da25eb2-dd85-454d-9b01-d7ae6719d63e')\"\n",
              "              title=\"Convert this dataframe to an interactive table.\"\n",
              "              style=\"display:none;\">\n",
              "        \n",
              "  <svg xmlns=\"http://www.w3.org/2000/svg\" height=\"24px\"viewBox=\"0 0 24 24\"\n",
              "       width=\"24px\">\n",
              "    <path d=\"M0 0h24v24H0V0z\" fill=\"none\"/>\n",
              "    <path d=\"M18.56 5.44l.94 2.06.94-2.06 2.06-.94-2.06-.94-.94-2.06-.94 2.06-2.06.94zm-11 1L8.5 8.5l.94-2.06 2.06-.94-2.06-.94L8.5 2.5l-.94 2.06-2.06.94zm10 10l.94 2.06.94-2.06 2.06-.94-2.06-.94-.94-2.06-.94 2.06-2.06.94z\"/><path d=\"M17.41 7.96l-1.37-1.37c-.4-.4-.92-.59-1.43-.59-.52 0-1.04.2-1.43.59L10.3 9.45l-7.72 7.72c-.78.78-.78 2.05 0 2.83L4 21.41c.39.39.9.59 1.41.59.51 0 1.02-.2 1.41-.59l7.78-7.78 2.81-2.81c.8-.78.8-2.07 0-2.86zM5.41 20L4 18.59l7.72-7.72 1.47 1.35L5.41 20z\"/>\n",
              "  </svg>\n",
              "      </button>\n",
              "      \n",
              "  <style>\n",
              "    .colab-df-container {\n",
              "      display:flex;\n",
              "      flex-wrap:wrap;\n",
              "      gap: 12px;\n",
              "    }\n",
              "\n",
              "    .colab-df-convert {\n",
              "      background-color: #E8F0FE;\n",
              "      border: none;\n",
              "      border-radius: 50%;\n",
              "      cursor: pointer;\n",
              "      display: none;\n",
              "      fill: #1967D2;\n",
              "      height: 32px;\n",
              "      padding: 0 0 0 0;\n",
              "      width: 32px;\n",
              "    }\n",
              "\n",
              "    .colab-df-convert:hover {\n",
              "      background-color: #E2EBFA;\n",
              "      box-shadow: 0px 1px 2px rgba(60, 64, 67, 0.3), 0px 1px 3px 1px rgba(60, 64, 67, 0.15);\n",
              "      fill: #174EA6;\n",
              "    }\n",
              "\n",
              "    [theme=dark] .colab-df-convert {\n",
              "      background-color: #3B4455;\n",
              "      fill: #D2E3FC;\n",
              "    }\n",
              "\n",
              "    [theme=dark] .colab-df-convert:hover {\n",
              "      background-color: #434B5C;\n",
              "      box-shadow: 0px 1px 3px 1px rgba(0, 0, 0, 0.15);\n",
              "      filter: drop-shadow(0px 1px 2px rgba(0, 0, 0, 0.3));\n",
              "      fill: #FFFFFF;\n",
              "    }\n",
              "  </style>\n",
              "\n",
              "      <script>\n",
              "        const buttonEl =\n",
              "          document.querySelector('#df-0da25eb2-dd85-454d-9b01-d7ae6719d63e button.colab-df-convert');\n",
              "        buttonEl.style.display =\n",
              "          google.colab.kernel.accessAllowed ? 'block' : 'none';\n",
              "\n",
              "        async function convertToInteractive(key) {\n",
              "          const element = document.querySelector('#df-0da25eb2-dd85-454d-9b01-d7ae6719d63e');\n",
              "          const dataTable =\n",
              "            await google.colab.kernel.invokeFunction('convertToInteractive',\n",
              "                                                     [key], {});\n",
              "          if (!dataTable) return;\n",
              "\n",
              "          const docLinkHtml = 'Like what you see? Visit the ' +\n",
              "            '<a target=\"_blank\" href=https://colab.research.google.com/notebooks/data_table.ipynb>data table notebook</a>'\n",
              "            + ' to learn more about interactive tables.';\n",
              "          element.innerHTML = '';\n",
              "          dataTable['output_type'] = 'display_data';\n",
              "          await google.colab.output.renderOutput(dataTable, element);\n",
              "          const docLink = document.createElement('div');\n",
              "          docLink.innerHTML = docLinkHtml;\n",
              "          element.appendChild(docLink);\n",
              "        }\n",
              "      </script>\n",
              "    </div>\n",
              "  </div>\n",
              "  "
            ]
          },
          "metadata": {},
          "execution_count": 21
        }
      ],
      "source": [
        "nyc_df['vendor_id'].value_counts().to_frame()"
      ]
    },
    {
      "cell_type": "code",
      "execution_count": 22,
      "metadata": {
        "colab": {
          "base_uri": "https://localhost:8080/",
          "height": 351
        },
        "id": "feXQ4b8vJZtX",
        "outputId": "e07a1d03-5dd1-458a-90f3-1e13118a6f66"
      },
      "outputs": [
        {
          "output_type": "display_data",
          "data": {
            "text/plain": [
              "<Figure size 360x360 with 1 Axes>"
            ],
            "image/png": "[encoded data removed]"
          },
          "metadata": {
            "needs_background": "light"
          }
        }
      ],
      "source": [
        "plt.figure(figsize= (5,5))\n",
        "sns.countplot(x = nyc_df['vendor_id'],facecolor=(0, 0, 0, 0), linewidth=5, edgecolor=sns.color_palette(\"dark\", 2))\n",
        "plt.title('Vendor ID Count')\n",
        "plt.show()"
      ]
    },
    {
      "cell_type": "markdown",
      "metadata": {
        "id": "G7yApI86MyCX"
      },
      "source": [
        "In this dataset, 2 unique vendors. Vendor_Id 2 has 780303 records and vendor_id 1 has 678342."
      ]
    },
    {
      "cell_type": "code",
      "execution_count": 23,
      "metadata": {
        "colab": {
          "base_uri": "https://localhost:8080/",
          "height": 363
        },
        "id": "G1QtYhfywFa7",
        "outputId": "4e8a0e1e-3d22-4512-b969-42aaa234811a"
      },
      "outputs": [
        {
          "output_type": "execute_result",
          "data": {
            "text/plain": [
              "   passenger_count\n",
              "1          1033540\n",
              "2           210318\n",
              "5            78088\n",
              "3            59896\n",
              "6            48333\n",
              "4            28404\n",
              "0               60\n",
              "7                3\n",
              "9                1\n",
              "8                1"
            ],
            "text/html": [
              "\n",
              "  <div id=\"df-26587cf0-b791-4daf-9626-fd9e312d0ecd\">\n",
              "    <div class=\"colab-df-container\">\n",
              "      <div>\n",
              "<style scoped>\n",
              "    .dataframe tbody tr th:only-of-type {\n",
              "        vertical-align: middle;\n",
              "    }\n",
              "\n",
              "    .dataframe tbody tr th {\n",
              "        vertical-align: top;\n",
              "    }\n",
              "\n",
              "    .dataframe thead th {\n",
              "        text-align: right;\n",
              "    }\n",
              "</style>\n",
              "<table border=\"1\" class=\"dataframe\">\n",
              "  <thead>\n",
              "    <tr style=\"text-align: right;\">\n",
              "      <th></th>\n",
              "      <th>passenger_count</th>\n",
              "    </tr>\n",
              "  </thead>\n",
              "  <tbody>\n",
              "    <tr>\n",
              "      <th>1</th>\n",
              "      <td>1033540</td>\n",
              "    </tr>\n",
              "    <tr>\n",
              "      <th>2</th>\n",
              "      <td>210318</td>\n",
              "    </tr>\n",
              "    <tr>\n",
              "      <th>5</th>\n",
              "      <td>78088</td>\n",
              "    </tr>\n",
              "    <tr>\n",
              "      <th>3</th>\n",
              "      <td>59896</td>\n",
              "    </tr>\n",
              "    <tr>\n",
              "      <th>6</th>\n",
              "      <td>48333</td>\n",
              "    </tr>\n",
              "    <tr>\n",
              "      <th>4</th>\n",
              "      <td>28404</td>\n",
              "    </tr>\n",
              "    <tr>\n",
              "      <th>0</th>\n",
              "      <td>60</td>\n",
              "    </tr>\n",
              "    <tr>\n",
              "      <th>7</th>\n",
              "      <td>3</td>\n",
              "    </tr>\n",
              "    <tr>\n",
              "      <th>9</th>\n",
              "      <td>1</td>\n",
              "    </tr>\n",
              "    <tr>\n",
              "      <th>8</th>\n",
              "      <td>1</td>\n",
              "    </tr>\n",
              "  </tbody>\n",
              "</table>\n",
              "</div>\n",
              "      <button class=\"colab-df-convert\" onclick=\"convertToInteractive('df-26587cf0-b791-4daf-9626-fd9e312d0ecd')\"\n",
              "              title=\"Convert this dataframe to an interactive table.\"\n",
              "              style=\"display:none;\">\n",
              "        \n",
              "  <svg xmlns=\"http://www.w3.org/2000/svg\" height=\"24px\"viewBox=\"0 0 24 24\"\n",
              "       width=\"24px\">\n",
              "    <path d=\"M0 0h24v24H0V0z\" fill=\"none\"/>\n",
              "    <path d=\"M18.56 5.44l.94 2.06.94-2.06 2.06-.94-2.06-.94-.94-2.06-.94 2.06-2.06.94zm-11 1L8.5 8.5l.94-2.06 2.06-.94-2.06-.94L8.5 2.5l-.94 2.06-2.06.94zm10 10l.94 2.06.94-2.06 2.06-.94-2.06-.94-.94-2.06-.94 2.06-2.06.94z\"/><path d=\"M17.41 7.96l-1.37-1.37c-.4-.4-.92-.59-1.43-.59-.52 0-1.04.2-1.43.59L10.3 9.45l-7.72 7.72c-.78.78-.78 2.05 0 2.83L4 21.41c.39.39.9.59 1.41.59.51 0 1.02-.2 1.41-.59l7.78-7.78 2.81-2.81c.8-.78.8-2.07 0-2.86zM5.41 20L4 18.59l7.72-7.72 1.47 1.35L5.41 20z\"/>\n",
              "  </svg>\n",
              "      </button>\n",
              "      \n",
              "  <style>\n",
              "    .colab-df-container {\n",
              "      display:flex;\n",
              "      flex-wrap:wrap;\n",
              "      gap: 12px;\n",
              "    }\n",
              "\n",
              "    .colab-df-convert {\n",
              "      background-color: #E8F0FE;\n",
              "      border: none;\n",
              "      border-radius: 50%;\n",
              "      cursor: pointer;\n",
              "      display: none;\n",
              "      fill: #1967D2;\n",
              "      height: 32px;\n",
              "      padding: 0 0 0 0;\n",
              "      width: 32px;\n",
              "    }\n",
              "\n",
              "    .colab-df-convert:hover {\n",
              "      background-color: #E2EBFA;\n",
              "      box-shadow: 0px 1px 2px rgba(60, 64, 67, 0.3), 0px 1px 3px 1px rgba(60, 64, 67, 0.15);\n",
              "      fill: #174EA6;\n",
              "    }\n",
              "\n",
              "    [theme=dark] .colab-df-convert {\n",
              "      background-color: #3B4455;\n",
              "      fill: #D2E3FC;\n",
              "    }\n",
              "\n",
              "    [theme=dark] .colab-df-convert:hover {\n",
              "      background-color: #434B5C;\n",
              "      box-shadow: 0px 1px 3px 1px rgba(0, 0, 0, 0.15);\n",
              "      filter: drop-shadow(0px 1px 2px rgba(0, 0, 0, 0.3));\n",
              "      fill: #FFFFFF;\n",
              "    }\n",
              "  </style>\n",
              "\n",
              "      <script>\n",
              "        const buttonEl =\n",
              "          document.querySelector('#df-26587cf0-b791-4daf-9626-fd9e312d0ecd button.colab-df-convert');\n",
              "        buttonEl.style.display =\n",
              "          google.colab.kernel.accessAllowed ? 'block' : 'none';\n",
              "\n",
              "        async function convertToInteractive(key) {\n",
              "          const element = document.querySelector('#df-26587cf0-b791-4daf-9626-fd9e312d0ecd');\n",
              "          const dataTable =\n",
              "            await google.colab.kernel.invokeFunction('convertToInteractive',\n",
              "                                                     [key], {});\n",
              "          if (!dataTable) return;\n",
              "\n",
              "          const docLinkHtml = 'Like what you see? Visit the ' +\n",
              "            '<a target=\"_blank\" href=https://colab.research.google.com/notebooks/data_table.ipynb>data table notebook</a>'\n",
              "            + ' to learn more about interactive tables.';\n",
              "          element.innerHTML = '';\n",
              "          dataTable['output_type'] = 'display_data';\n",
              "          await google.colab.output.renderOutput(dataTable, element);\n",
              "          const docLink = document.createElement('div');\n",
              "          docLink.innerHTML = docLinkHtml;\n",
              "          element.appendChild(docLink);\n",
              "        }\n",
              "      </script>\n",
              "    </div>\n",
              "  </div>\n",
              "  "
            ]
          },
          "metadata": {},
          "execution_count": 23
        }
      ],
      "source": [
        "# Passenger Count \n",
        "nyc_df['passenger_count'].value_counts().to_frame()"
      ]
    },
    {
      "cell_type": "code",
      "execution_count": 24,
      "metadata": {
        "colab": {
          "base_uri": "https://localhost:8080/",
          "height": 241
        },
        "id": "P8KdG-_X_g3g",
        "outputId": "ca773723-ca94-4837-9f4b-342ac3850550"
      },
      "outputs": [
        {
          "output_type": "display_data",
          "data": {
            "text/plain": [
              "<Figure size 720x216 with 1 Axes>"
            ],
            "image/png": "[encoded data removed]"
          },
          "metadata": {
            "needs_background": "light"
          }
        }
      ],
      "source": [
        "# Passenger Count\n",
        "plt.figure(figsize= (10,3))\n",
        "sns.boxplot(x = nyc_df['passenger_count'], color = 'crimson', linewidth=2, fliersize=8)\n",
        "plt.title('Passenger Count')\n",
        "plt.show()"
      ]
    },
    {
      "cell_type": "code",
      "execution_count": 25,
      "metadata": {
        "id": "O9_mDJV4yTID"
      },
      "outputs": [],
      "source": [
        "# Removing 0,7,8 and 9 passenger count entries.\n",
        "nyc_df = nyc_df[nyc_df['passenger_count']!=0]\n",
        "nyc_df = nyc_df[nyc_df['passenger_count']<=6]"
      ]
    },
    {
      "cell_type": "code",
      "execution_count": 26,
      "metadata": {
        "colab": {
          "base_uri": "https://localhost:8080/",
          "height": 237
        },
        "id": "HiMBtF8wy8XL",
        "outputId": "89a1ee06-ce7e-4379-d058-41334dbfa0cf"
      },
      "outputs": [
        {
          "output_type": "execute_result",
          "data": {
            "text/plain": [
              "   passenger_count\n",
              "1          1033540\n",
              "2           210318\n",
              "5            78088\n",
              "3            59896\n",
              "6            48333\n",
              "4            28404"
            ],
            "text/html": [
              "\n",
              "  <div id=\"df-e06f294b-793a-4cfb-a56e-5bcc8d900bbe\">\n",
              "    <div class=\"colab-df-container\">\n",
              "      <div>\n",
              "<style scoped>\n",
              "    .dataframe tbody tr th:only-of-type {\n",
              "        vertical-align: middle;\n",
              "    }\n",
              "\n",
              "    .dataframe tbody tr th {\n",
              "        vertical-align: top;\n",
              "    }\n",
              "\n",
              "    .dataframe thead th {\n",
              "        text-align: right;\n",
              "    }\n",
              "</style>\n",
              "<table border=\"1\" class=\"dataframe\">\n",
              "  <thead>\n",
              "    <tr style=\"text-align: right;\">\n",
              "      <th></th>\n",
              "      <th>passenger_count</th>\n",
              "    </tr>\n",
              "  </thead>\n",
              "  <tbody>\n",
              "    <tr>\n",
              "      <th>1</th>\n",
              "      <td>1033540</td>\n",
              "    </tr>\n",
              "    <tr>\n",
              "      <th>2</th>\n",
              "      <td>210318</td>\n",
              "    </tr>\n",
              "    <tr>\n",
              "      <th>5</th>\n",
              "      <td>78088</td>\n",
              "    </tr>\n",
              "    <tr>\n",
              "      <th>3</th>\n",
              "      <td>59896</td>\n",
              "    </tr>\n",
              "    <tr>\n",
              "      <th>6</th>\n",
              "      <td>48333</td>\n",
              "    </tr>\n",
              "    <tr>\n",
              "      <th>4</th>\n",
              "      <td>28404</td>\n",
              "    </tr>\n",
              "  </tbody>\n",
              "</table>\n",
              "</div>\n",
              "      <button class=\"colab-df-convert\" onclick=\"convertToInteractive('df-e06f294b-793a-4cfb-a56e-5bcc8d900bbe')\"\n",
              "              title=\"Convert this dataframe to an interactive table.\"\n",
              "              style=\"display:none;\">\n",
              "        \n",
              "  <svg xmlns=\"http://www.w3.org/2000/svg\" height=\"24px\"viewBox=\"0 0 24 24\"\n",
              "       width=\"24px\">\n",
              "    <path d=\"M0 0h24v24H0V0z\" fill=\"none\"/>\n",
              "    <path d=\"M18.56 5.44l.94 2.06.94-2.06 2.06-.94-2.06-.94-.94-2.06-.94 2.06-2.06.94zm-11 1L8.5 8.5l.94-2.06 2.06-.94-2.06-.94L8.5 2.5l-.94 2.06-2.06.94zm10 10l.94 2.06.94-2.06 2.06-.94-2.06-.94-.94-2.06-.94 2.06-2.06.94z\"/><path d=\"M17.41 7.96l-1.37-1.37c-.4-.4-.92-.59-1.43-.59-.52 0-1.04.2-1.43.59L10.3 9.45l-7.72 7.72c-.78.78-.78 2.05 0 2.83L4 21.41c.39.39.9.59 1.41.59.51 0 1.02-.2 1.41-.59l7.78-7.78 2.81-2.81c.8-.78.8-2.07 0-2.86zM5.41 20L4 18.59l7.72-7.72 1.47 1.35L5.41 20z\"/>\n",
              "  </svg>\n",
              "      </button>\n",
              "      \n",
              "  <style>\n",
              "    .colab-df-container {\n",
              "      display:flex;\n",
              "      flex-wrap:wrap;\n",
              "      gap: 12px;\n",
              "    }\n",
              "\n",
              "    .colab-df-convert {\n",
              "      background-color: #E8F0FE;\n",
              "      border: none;\n",
              "      border-radius: 50%;\n",
              "      cursor: pointer;\n",
              "      display: none;\n",
              "      fill: #1967D2;\n",
              "      height: 32px;\n",
              "      padding: 0 0 0 0;\n",
              "      width: 32px;\n",
              "    }\n",
              "\n",
              "    .colab-df-convert:hover {\n",
              "      background-color: #E2EBFA;\n",
              "      box-shadow: 0px 1px 2px rgba(60, 64, 67, 0.3), 0px 1px 3px 1px rgba(60, 64, 67, 0.15);\n",
              "      fill: #174EA6;\n",
              "    }\n",
              "\n",
              "    [theme=dark] .colab-df-convert {\n",
              "      background-color: #3B4455;\n",
              "      fill: #D2E3FC;\n",
              "    }\n",
              "\n",
              "    [theme=dark] .colab-df-convert:hover {\n",
              "      background-color: #434B5C;\n",
              "      box-shadow: 0px 1px 3px 1px rgba(0, 0, 0, 0.15);\n",
              "      filter: drop-shadow(0px 1px 2px rgba(0, 0, 0, 0.3));\n",
              "      fill: #FFFFFF;\n",
              "    }\n",
              "  </style>\n",
              "\n",
              "      <script>\n",
              "        const buttonEl =\n",
              "          document.querySelector('#df-e06f294b-793a-4cfb-a56e-5bcc8d900bbe button.colab-df-convert');\n",
              "        buttonEl.style.display =\n",
              "          google.colab.kernel.accessAllowed ? 'block' : 'none';\n",
              "\n",
              "        async function convertToInteractive(key) {\n",
              "          const element = document.querySelector('#df-e06f294b-793a-4cfb-a56e-5bcc8d900bbe');\n",
              "          const dataTable =\n",
              "            await google.colab.kernel.invokeFunction('convertToInteractive',\n",
              "                                                     [key], {});\n",
              "          if (!dataTable) return;\n",
              "\n",
              "          const docLinkHtml = 'Like what you see? Visit the ' +\n",
              "            '<a target=\"_blank\" href=https://colab.research.google.com/notebooks/data_table.ipynb>data table notebook</a>'\n",
              "            + ' to learn more about interactive tables.';\n",
              "          element.innerHTML = '';\n",
              "          dataTable['output_type'] = 'display_data';\n",
              "          await google.colab.output.renderOutput(dataTable, element);\n",
              "          const docLink = document.createElement('div');\n",
              "          docLink.innerHTML = docLinkHtml;\n",
              "          element.appendChild(docLink);\n",
              "        }\n",
              "      </script>\n",
              "    </div>\n",
              "  </div>\n",
              "  "
            ]
          },
          "metadata": {},
          "execution_count": 26
        }
      ],
      "source": [
        "# Checking again passener count \n",
        "nyc_df['passenger_count'].value_counts().to_frame()"
      ]
    },
    {
      "cell_type": "code",
      "execution_count": 27,
      "metadata": {
        "colab": {
          "base_uri": "https://localhost:8080/",
          "height": 404
        },
        "id": "Xm4bSp9EDvhC",
        "outputId": "b0a90c9a-68b4-4cf8-f7e6-051bcc2c0bda"
      },
      "outputs": [
        {
          "output_type": "display_data",
          "data": {
            "text/plain": [
              "<Figure size 432x432 with 1 Axes>"
            ],
            "image/png": "[encoded data removed]"
          },
          "metadata": {
            "needs_background": "light"
          }
        }
      ],
      "source": [
        "# Countolot of passenger count\n",
        "plt.figure(figsize=(6,6))\n",
        "sns.countplot(x=nyc_df.passenger_count, palette = 'husl')\n",
        "plt.title('Passenger Count Plot')\n",
        "plt.show()"
      ]
    },
    {
      "cell_type": "code",
      "execution_count": 28,
      "metadata": {
        "colab": {
          "base_uri": "https://localhost:8080/",
          "height": 241
        },
        "id": "6jfvGpS5btAG",
        "outputId": "b811679f-3e9b-4a89-a406-6507d32a9e73"
      },
      "outputs": [
        {
          "output_type": "display_data",
          "data": {
            "text/plain": [
              "<Figure size 720x216 with 1 Axes>"
            ],
            "image/png": "[encoded data removed]"
          },
          "metadata": {
            "needs_background": "light"
          }
        }
      ],
      "source": [
        "# Distance Viz in Km\n",
        "plt.figure(figsize= (10,3))\n",
        "sns.boxplot(x = nyc_df['distance'])\n",
        "plt.title('Distance Boxplot')\n",
        "plt.show()"
      ]
    },
    {
      "cell_type": "code",
      "execution_count": 29,
      "metadata": {
        "colab": {
          "base_uri": "https://localhost:8080/"
        },
        "id": "_0dV2KLp5Tfj",
        "outputId": "b12520de-1ace-4495-8c5f-f443eac09013"
      },
      "outputs": [
        {
          "output_type": "stream",
          "name": "stdout",
          "text": [
            "count   1,458,579.00\n",
            "mean            3.44\n",
            "std             4.30\n",
            "min             0.00\n",
            "25%             1.23\n",
            "50%             2.09\n",
            "75%             3.88\n",
            "max         1,240.91\n",
            "Name: distance, dtype: float64\n"
          ]
        }
      ],
      "source": [
        "print(nyc_df.distance.describe())"
      ]
    },
    {
      "cell_type": "markdown",
      "metadata": {
        "id": "9ULVYT6gcYyj"
      },
      "source": [
        "The avg distance of trips is 3.44 km. There are trips with 0 km distance as well. Maximum distance travelled is 1240 km as per given data. "
      ]
    },
    {
      "cell_type": "code",
      "execution_count": 30,
      "metadata": {
        "colab": {
          "base_uri": "https://localhost:8080/"
        },
        "id": "ToXlI4tvdax9",
        "outputId": "2fb0a38f-850a-4125-e75c-3fc17b052a81"
      },
      "outputs": [
        {
          "output_type": "stream",
          "name": "stdout",
          "text": [
            "The ntotal number of trips with 0 Km distance are 5887.\n"
          ]
        }
      ],
      "source": [
        "# Check number of trips with 0 Km distance\n",
        "distance_zero = len(nyc_df[nyc_df['distance']== 0])\n",
        "print(f'The ntotal number of trips with 0 Km distance are {distance_zero}.')"
      ]
    },
    {
      "cell_type": "markdown",
      "metadata": {
        "id": "qAoHZ3U0jFf_"
      },
      "source": [
        "Lets explore the distance feature which is 0 km."
      ]
    },
    {
      "cell_type": "code",
      "execution_count": 31,
      "metadata": {
        "id": "dajVsLenoiP5"
      },
      "outputs": [],
      "source": [
        "# Created a df for zero distance\n",
        "zero_distance_df = nyc_df[nyc_df['distance']==0]"
      ]
    },
    {
      "cell_type": "code",
      "execution_count": 32,
      "metadata": {
        "colab": {
          "base_uri": "https://localhost:8080/"
        },
        "id": "mDspIfc2o9Od",
        "outputId": "40aef85c-3db9-4c10-e259-74fadbcb9c96"
      },
      "outputs": [
        {
          "output_type": "execute_result",
          "data": {
            "text/plain": [
              "count    5,887.00\n",
              "mean       536.29\n",
              "std      1,953.65\n",
              "min          1.00\n",
              "25%         38.00\n",
              "50%        352.00\n",
              "75%        725.50\n",
              "max     86,352.00\n",
              "Name: trip_duration, dtype: float64"
            ]
          },
          "metadata": {},
          "execution_count": 32
        }
      ],
      "source": [
        "# Descriptive Analysis of Zero distance trip duration.\n",
        "zero_distance_df['trip_duration'].describe()"
      ]
    },
    {
      "cell_type": "markdown",
      "metadata": {
        "id": "67ZoDJQ36Zqr"
      },
      "source": [
        "Zero distance trips duration analysis tell us that there are some inconsistencies with data. Minimum trip duration is 1 second and maximum is 86352 seconds. "
      ]
    },
    {
      "cell_type": "markdown",
      "metadata": {
        "id": "eG5urb2Eqzsd"
      },
      "source": [
        "In this 0 distance df we found there is a trip duration given so instead dropping, 0 distance filled with median distance"
      ]
    },
    {
      "cell_type": "code",
      "execution_count": 33,
      "metadata": {
        "colab": {
          "base_uri": "https://localhost:8080/"
        },
        "id": "k2JQQMAFeTVM",
        "outputId": "a0170f6d-f64e-474a-e614-e5e0d4a8eff8"
      },
      "outputs": [
        {
          "output_type": "stream",
          "name": "stdout",
          "text": [
            "The total number of trips with mmore than 100 Km distance are \n",
            " 19\n"
          ]
        }
      ],
      "source": [
        "distance_abv_100 = len(nyc_df[nyc_df['distance'] >= 100])\n",
        "print(f'The total number of trips with mmore than 100 Km distance are \\n {distance_abv_100}')"
      ]
    },
    {
      "cell_type": "code",
      "execution_count": 34,
      "metadata": {
        "id": "KG3vRXWM8DOj"
      },
      "outputs": [],
      "source": [
        "# Dropped rows with distance above 100km as it has very few entries\n",
        "nyc_df = nyc_df[nyc_df['distance']<=100]"
      ]
    },
    {
      "cell_type": "code",
      "execution_count": 35,
      "metadata": {
        "colab": {
          "base_uri": "https://localhost:8080/",
          "height": 404
        },
        "id": "kT03O-8Ok2ZI",
        "outputId": "b7e77317-7b00-4250-ee94-3e96a569f1c7"
      },
      "outputs": [
        {
          "output_type": "display_data",
          "data": {
            "text/plain": [
              "<Figure size 432x432 with 1 Axes>"
            ],
            "image/png": "[encoded data removed]"
          },
          "metadata": {
            "needs_background": "light"
          }
        }
      ],
      "source": [
        "# Distribution of distance\n",
        "plt.figure(figsize=(6,6))\n",
        "sns.distplot(x= nyc_df['distance'], color = 'crimson')\n",
        "plt.title('Distribution of distance')\n",
        "plt.xlabel('Distance in KM')\n",
        "plt.show()"
      ]
    },
    {
      "cell_type": "code",
      "execution_count": 36,
      "metadata": {
        "colab": {
          "base_uri": "https://localhost:8080/"
        },
        "id": "ooRK5hzx_Gal",
        "outputId": "2ea59304-1efc-4481-f8e6-eb8643597217"
      },
      "outputs": [
        {
          "output_type": "stream",
          "name": "stdout",
          "text": [
            "2.09375866774669\n",
            "3.4362095098472176\n"
          ]
        }
      ],
      "source": [
        "print(nyc_df['distance'].median())\n",
        "print(nyc_df['distance'].mean())"
      ]
    },
    {
      "cell_type": "markdown",
      "metadata": {
        "id": "KoiqtK3f-8Cs"
      },
      "source": [
        "This distance distribution plot is right skewed. **Mean is a greater than median** ."
      ]
    },
    {
      "cell_type": "code",
      "execution_count": 37,
      "metadata": {
        "colab": {
          "base_uri": "https://localhost:8080/",
          "height": 241
        },
        "id": "ycxqfMUShF48",
        "outputId": "bb47be74-e8ad-470d-f1c4-bb65cbfecb1d"
      },
      "outputs": [
        {
          "output_type": "display_data",
          "data": {
            "text/plain": [
              "<Figure size 720x216 with 1 Axes>"
            ],
            "image/png": "[encoded data removed]"
          },
          "metadata": {
            "needs_background": "light"
          }
        }
      ],
      "source": [
        "# Speed Analysis\n",
        "plt.figure(figsize= (10,3))\n",
        "sns.boxplot(x = nyc_df['speed'])\n",
        "plt.title('Speed Analyis')\n",
        "plt.show()"
      ]
    },
    {
      "cell_type": "code",
      "execution_count": 38,
      "metadata": {
        "colab": {
          "base_uri": "https://localhost:8080/"
        },
        "id": "Ces_7hZSLKXr",
        "outputId": "8c111b6d-a4b3-450e-e086-c84620da41f1"
      },
      "outputs": [
        {
          "output_type": "stream",
          "name": "stdout",
          "text": [
            "14.401408566780928\n"
          ]
        }
      ],
      "source": [
        "# Lets see the average speed of a trip in Km/hr\n",
        "print(nyc_df['speed'].mean())"
      ]
    },
    {
      "cell_type": "code",
      "execution_count": 39,
      "metadata": {
        "colab": {
          "base_uri": "https://localhost:8080/"
        },
        "id": "xfO87tjhMiav",
        "outputId": "01024eff-a9ab-4d6b-e5c7-31515c341462"
      },
      "outputs": [
        {
          "output_type": "stream",
          "name": "stdout",
          "text": [
            "The total number of trips with more than avg speed are \n",
            " 589755.\n"
          ]
        }
      ],
      "source": [
        "number_trips_above_avg_speed = len(nyc_df[nyc_df['speed'] > nyc_df['speed'].mean()])\n",
        "print(f'The total number of trips with more than avg speed are \\n {number_trips_above_avg_speed }.')"
      ]
    },
    {
      "cell_type": "code",
      "execution_count": 40,
      "metadata": {
        "colab": {
          "base_uri": "https://localhost:8080/"
        },
        "id": "UGCe_egkOh99",
        "outputId": "1d554459-eaf8-45c6-fcd6-208c99d793e9"
      },
      "outputs": [
        {
          "output_type": "stream",
          "name": "stdout",
          "text": [
            "The total number of trips with less than or eqaul to 100km/hr speed are 1458400.\n"
          ]
        }
      ],
      "source": [
        "temp_df = nyc_df[nyc_df['speed'] <=100]\n",
        "number_trips_lessthan_100 = len(temp_df[temp_df['speed'] <= 100 ])\n",
        "print(f'The total number of trips with less than or eqaul to 100km/hr speed are {number_trips_lessthan_100}.')"
      ]
    },
    {
      "cell_type": "code",
      "execution_count": 41,
      "metadata": {
        "colab": {
          "base_uri": "https://localhost:8080/",
          "height": 442
        },
        "id": "NLvObYslRBdc",
        "outputId": "f59db016-f9bc-4d5c-e039-5cd25c889504"
      },
      "outputs": [
        {
          "output_type": "display_data",
          "data": {
            "text/plain": [
              "<Figure size 504x504 with 1 Axes>"
            ],
            "image/png": "[encoded data removed]"
          },
          "metadata": {
            "needs_background": "light"
          }
        }
      ],
      "source": [
        "# Distribution of speed\n",
        "plt.figure(figsize=(7,7))\n",
        "sns.distplot(nyc_df['speed'],color=\"crimson\")\n",
        "plt.show()"
      ]
    },
    {
      "cell_type": "markdown",
      "metadata": {
        "id": "GLWwHhkSxJVX"
      },
      "source": [
        "**Trip Duration** is our target variable."
      ]
    },
    {
      "cell_type": "code",
      "execution_count": 42,
      "metadata": {
        "colab": {
          "base_uri": "https://localhost:8080/",
          "height": 226
        },
        "id": "YdmNuEpE9WNm",
        "outputId": "1df14bce-1a63-4120-b6b7-62baf7c9d3ff"
      },
      "outputs": [
        {
          "output_type": "display_data",
          "data": {
            "text/plain": [
              "<Figure size 720x216 with 1 Axes>"
            ],
            "image/png": "[encoded data removed]"
          },
          "metadata": {
            "needs_background": "light"
          }
        }
      ],
      "source": [
        "# Boxplot for a trip duration\n",
        "plt.figure(figsize= (10,3))\n",
        "sns.boxplot(x = nyc_df['trip_duration'])\n",
        "plt.show()"
      ]
    },
    {
      "cell_type": "code",
      "execution_count": 43,
      "metadata": {
        "id": "PZ8mxUOd-OVX"
      },
      "outputs": [],
      "source": [
        "# Dropped largest trip duration. Boxplot clearly tell us about outliers.\n",
        "outlier_trip_pred = nyc_df.nlargest(4, 'trip_duration')\n",
        "nyc_df = nyc_df.drop(outlier_trip_pred.index, axis=0)"
      ]
    },
    {
      "cell_type": "code",
      "execution_count": 44,
      "metadata": {
        "id": "eFQzoTyx1YKv"
      },
      "outputs": [],
      "source": [
        "# Checking number of trips with less than 60 seconds\n",
        "trips_less_than_sixty_seconds = nyc_df[nyc_df['trip_duration']<60]"
      ]
    },
    {
      "cell_type": "code",
      "execution_count": 45,
      "metadata": {
        "colab": {
          "base_uri": "https://localhost:8080/"
        },
        "id": "lix3pwl71pvl",
        "outputId": "6b792459-be3a-415b-bb4c-599362622821"
      },
      "outputs": [
        {
          "output_type": "execute_result",
          "data": {
            "text/plain": [
              "(8550, 20)"
            ]
          },
          "metadata": {},
          "execution_count": 45
        }
      ],
      "source": [
        "# Shape of trips less than 60 seconds\n",
        "trips_less_than_sixty_seconds.shape"
      ]
    },
    {
      "cell_type": "code",
      "execution_count": 46,
      "metadata": {
        "id": "2nefw5Kbxx-N"
      },
      "outputs": [],
      "source": [
        "# Keeping only trips with trip duration more than 60 seconds\n",
        "nyc_df = nyc_df[nyc_df['trip_duration']>60]"
      ]
    },
    {
      "cell_type": "markdown",
      "metadata": {
        "id": "lqfCQe9S9pex"
      },
      "source": [
        "Dropped trips with less than 60 seconds duration as it suggests that it might be cancelled by Driver or User."
      ]
    },
    {
      "cell_type": "code",
      "execution_count": 47,
      "metadata": {
        "colab": {
          "base_uri": "https://localhost:8080/",
          "height": 458
        },
        "id": "S9WN1mKRPr0O",
        "outputId": "f8007e96-cf1c-40ab-91cd-111ea457a688"
      },
      "outputs": [
        {
          "output_type": "display_data",
          "data": {
            "text/plain": [
              "<Figure size 504x504 with 1 Axes>"
            ],
            "image/png": "[encoded data removed]"
          },
          "metadata": {
            "needs_background": "light"
          }
        }
      ],
      "source": [
        "# Trip duration distribution\n",
        "plt.figure(figsize=(7,7))\n",
        "sns.distplot(x=nyc_df['trip_duration'],color=\"blue\")\n",
        "plt.xlabel('Duration in Seconds')\n",
        "plt.title('Trip Duration')\n",
        "plt.show()"
      ]
    },
    {
      "cell_type": "code",
      "execution_count": 48,
      "metadata": {
        "colab": {
          "base_uri": "https://localhost:8080/",
          "height": 444
        },
        "id": "4gaB1sFs-o7Y",
        "outputId": "e0455853-175a-44bb-e7b9-4df58c8f5630"
      },
      "outputs": [
        {
          "output_type": "display_data",
          "data": {
            "text/plain": [
              "<Figure size 504x504 with 1 Axes>"
            ],
            "image/png": "[encoded data removed]"
          },
          "metadata": {
            "needs_background": "light"
          }
        }
      ],
      "source": [
        "# Log transformed plot of a trip duration\n",
        "plt.figure(figsize=(7,7))\n",
        "sns.distplot(x=np.log(nyc_df['trip_duration']), color=\"blue\")\n",
        "plt.title('Trip Duration in Seconds(Log Transformed)')\n",
        "plt.show()"
      ]
    },
    {
      "cell_type": "code",
      "execution_count": 49,
      "metadata": {
        "colab": {
          "base_uri": "https://localhost:8080/"
        },
        "id": "tAWLsTDQ3_SX",
        "outputId": "f2d7cad6-1e5e-49c8-98b4-4aab3ee23e84"
      },
      "outputs": [
        {
          "output_type": "execute_result",
          "data": {
            "text/plain": [
              "(1449824, 20)"
            ]
          },
          "metadata": {},
          "execution_count": 49
        }
      ],
      "source": [
        "# Number of rows and column after processing data\n",
        "nyc_df.shape"
      ]
    },
    {
      "cell_type": "code",
      "execution_count": 50,
      "metadata": {
        "colab": {
          "base_uri": "https://localhost:8080/"
        },
        "id": "ZHcTZBopkVDz",
        "outputId": "51652355-9eb2-46a2-a661-18d9f5b2426a"
      },
      "outputs": [
        {
          "output_type": "execute_result",
          "data": {
            "text/plain": [
              "Friday       222190\n",
              "Saturday     219564\n",
              "Thursday     217228\n",
              "Wednesday    209001\n",
              "Tuesday      201586\n",
              "Sunday       194003\n",
              "Monday       186252\n",
              "Name: pickup_day, dtype: int64"
            ]
          },
          "metadata": {},
          "execution_count": 50
        }
      ],
      "source": [
        "# Daywise pickup count\n",
        "nyc_df['pickup_day'].value_counts()"
      ]
    },
    {
      "cell_type": "markdown",
      "metadata": {
        "id": "bKgnusQUkt3R"
      },
      "source": [
        "Pickup day data tell us about the **most of trips taken** on **Friday** and **Monday** is a day where **least trips taken.**"
      ]
    },
    {
      "cell_type": "code",
      "execution_count": 51,
      "metadata": {
        "colab": {
          "base_uri": "https://localhost:8080/"
        },
        "id": "Qe_N2o8LkZnH",
        "outputId": "6c31db5d-7f46-44b7-b289-82931cb650e3"
      },
      "outputs": [
        {
          "output_type": "execute_result",
          "data": {
            "text/plain": [
              "Friday       221688\n",
              "Saturday     219599\n",
              "Thursday     216400\n",
              "Wednesday    208655\n",
              "Tuesday      201353\n",
              "Sunday       195860\n",
              "Monday       186269\n",
              "Name: dropoff_day, dtype: int64"
            ]
          },
          "metadata": {},
          "execution_count": 51
        }
      ],
      "source": [
        "# Daywise drop off data\n",
        "nyc_df['dropoff_day'].value_counts()"
      ]
    },
    {
      "cell_type": "code",
      "execution_count": 52,
      "metadata": {
        "colab": {
          "base_uri": "https://localhost:8080/",
          "height": 585
        },
        "id": "usiGzKtEx4W9",
        "outputId": "ea8981c7-ece7-4ff0-e2a3-80f7e5ece847"
      },
      "outputs": [
        {
          "output_type": "display_data",
          "data": {
            "text/plain": [
              "<Figure size 720x576 with 2 Axes>"
            ],
            "image/png": "[encoded data removed]"
          },
          "metadata": {
            "needs_background": "light"
          }
        }
      ],
      "source": [
        "# Pickup day and Drop off day viz.\n",
        "figure,ax=plt.subplots(nrows=2,ncols=1,figsize=(10,8))\n",
        "sns.countplot(x='pickup_day',data=nyc_df, palette = 'husl', ax=ax[0])\n",
        "ax[0].set_title('Number of Pickups done on each day of the week')\n",
        "sns.countplot(x='dropoff_day',data=nyc_df, palette = 'husl', ax=ax[1])\n",
        "ax[1].set_title('Number of dropoffs done on each day of the week')\n",
        "plt.tight_layout()"
      ]
    },
    {
      "cell_type": "code",
      "execution_count": 53,
      "metadata": {
        "colab": {
          "base_uri": "https://localhost:8080/"
        },
        "id": "Hj8YOhUdmKT7",
        "outputId": "8b07f125-b473-4284-ff9e-1d2573978359"
      },
      "outputs": [
        {
          "output_type": "execute_result",
          "data": {
            "text/plain": [
              "3    254682\n",
              "4    250049\n",
              "5    246955\n",
              "2    236893\n",
              "6    232878\n",
              "1    228367\n",
              "Name: pickup_month, dtype: int64"
            ]
          },
          "metadata": {},
          "execution_count": 53
        }
      ],
      "source": [
        "# Monthwise pickup data\n",
        "nyc_df['pickup_month'].value_counts()"
      ]
    },
    {
      "cell_type": "code",
      "execution_count": 54,
      "metadata": {
        "colab": {
          "base_uri": "https://localhost:8080/"
        },
        "id": "lyCCVs7Llli1",
        "outputId": "5829d3bb-f926-4914-84a6-85f0ad69d8d5"
      },
      "outputs": [
        {
          "output_type": "execute_result",
          "data": {
            "text/plain": [
              "3    254626\n",
              "4    250040\n",
              "5    247023\n",
              "2    236887\n",
              "6    232805\n",
              "1    228316\n",
              "7       127\n",
              "Name: dropoff_month, dtype: int64"
            ]
          },
          "metadata": {},
          "execution_count": 54
        }
      ],
      "source": [
        "# Monthwise drop off data\n",
        "nyc_df['dropoff_month'].value_counts()"
      ]
    },
    {
      "cell_type": "code",
      "execution_count": 55,
      "metadata": {
        "colab": {
          "base_uri": "https://localhost:8080/",
          "height": 357
        },
        "id": "mC5a-ZKm0mu7",
        "outputId": "7a60bbc2-1d11-4e74-e5b7-e891aeffe191"
      },
      "outputs": [
        {
          "output_type": "execute_result",
          "data": {
            "text/plain": [
              "               id  vendor_id     pickup_datetime    dropoff_datetime  \\\n",
              "46600   id1230274          2 2016-06-30 08:00:53 2016-07-01 07:46:38   \n",
              "54314   id0462006          1 2016-06-30 23:42:19 2016-07-01 00:01:12   \n",
              "59891   id2837671          2 2016-06-30 16:37:52 2016-07-01 16:37:39   \n",
              "77419   id2787535          2 2016-06-30 23:51:36 2016-07-01 00:01:20   \n",
              "115092  id2785585          2 2016-06-30 23:47:29 2016-07-01 00:08:00   \n",
              "\n",
              "        passenger_count  pickup_longitude  pickup_latitude  dropoff_longitude  \\\n",
              "46600                 4            -73.92            40.77             -73.78   \n",
              "54314                 1            -73.99            40.76             -74.01   \n",
              "59891                 1            -73.99            40.75             -73.96   \n",
              "77419                 1            -73.97            40.79             -74.00   \n",
              "115092                1            -74.01            40.75             -73.96   \n",
              "\n",
              "        dropoff_latitude store_and_fwd_flag  trip_duration pickup_day  \\\n",
              "46600              40.65                  N          85545   Thursday   \n",
              "54314              40.71                  N           1133   Thursday   \n",
              "59891              40.80                  N          86387   Thursday   \n",
              "77419              40.76                  N            584   Thursday   \n",
              "115092             40.76                  N           1231   Thursday   \n",
              "\n",
              "       dropoff_day  pickup_month  dropoff_month  pickup_hr  dropoff_hour  \\\n",
              "46600       Friday             6              7          8             7   \n",
              "54314       Friday             6              7         23             0   \n",
              "59891       Friday             6              7         16            16   \n",
              "77419       Friday             6              7         23             0   \n",
              "115092      Friday             6              7         23             0   \n",
              "\n",
              "        distance  speed  trip_duration_hour  \n",
              "46600      18.66   0.79               23.76  \n",
              "54314       5.43  17.25                0.31  \n",
              "59891       6.20   0.26               24.00  \n",
              "77419       3.51  21.63                0.16  \n",
              "115092      3.90  11.42                0.34  "
            ],
            "text/html": [
              "\n",
              "  <div id=\"df-2069d620-afe5-4a4f-afe0-6730e457a9b1\">\n",
              "    <div class=\"colab-df-container\">\n",
              "      <div>\n",
              "<style scoped>\n",
              "    .dataframe tbody tr th:only-of-type {\n",
              "        vertical-align: middle;\n",
              "    }\n",
              "\n",
              "    .dataframe tbody tr th {\n",
              "        vertical-align: top;\n",
              "    }\n",
              "\n",
              "    .dataframe thead th {\n",
              "        text-align: right;\n",
              "    }\n",
              "</style>\n",
              "<table border=\"1\" class=\"dataframe\">\n",
              "  <thead>\n",
              "    <tr style=\"text-align: right;\">\n",
              "      <th></th>\n",
              "      <th>id</th>\n",
              "      <th>vendor_id</th>\n",
              "      <th>pickup_datetime</th>\n",
              "      <th>dropoff_datetime</th>\n",
              "      <th>passenger_count</th>\n",
              "      <th>pickup_longitude</th>\n",
              "      <th>pickup_latitude</th>\n",
              "      <th>dropoff_longitude</th>\n",
              "      <th>dropoff_latitude</th>\n",
              "      <th>store_and_fwd_flag</th>\n",
              "      <th>trip_duration</th>\n",
              "      <th>pickup_day</th>\n",
              "      <th>dropoff_day</th>\n",
              "      <th>pickup_month</th>\n",
              "      <th>dropoff_month</th>\n",
              "      <th>pickup_hr</th>\n",
              "      <th>dropoff_hour</th>\n",
              "      <th>distance</th>\n",
              "      <th>speed</th>\n",
              "      <th>trip_duration_hour</th>\n",
              "    </tr>\n",
              "  </thead>\n",
              "  <tbody>\n",
              "    <tr>\n",
              "      <th>46600</th>\n",
              "      <td>id1230274</td>\n",
              "      <td>2</td>\n",
              "      <td>2016-06-30 08:00:53</td>\n",
              "      <td>2016-07-01 07:46:38</td>\n",
              "      <td>4</td>\n",
              "      <td>-73.92</td>\n",
              "      <td>40.77</td>\n",
              "      <td>-73.78</td>\n",
              "      <td>40.65</td>\n",
              "      <td>N</td>\n",
              "      <td>85545</td>\n",
              "      <td>Thursday</td>\n",
              "      <td>Friday</td>\n",
              "      <td>6</td>\n",
              "      <td>7</td>\n",
              "      <td>8</td>\n",
              "      <td>7</td>\n",
              "      <td>18.66</td>\n",
              "      <td>0.79</td>\n",
              "      <td>23.76</td>\n",
              "    </tr>\n",
              "    <tr>\n",
              "      <th>54314</th>\n",
              "      <td>id0462006</td>\n",
              "      <td>1</td>\n",
              "      <td>2016-06-30 23:42:19</td>\n",
              "      <td>2016-07-01 00:01:12</td>\n",
              "      <td>1</td>\n",
              "      <td>-73.99</td>\n",
              "      <td>40.76</td>\n",
              "      <td>-74.01</td>\n",
              "      <td>40.71</td>\n",
              "      <td>N</td>\n",
              "      <td>1133</td>\n",
              "      <td>Thursday</td>\n",
              "      <td>Friday</td>\n",
              "      <td>6</td>\n",
              "      <td>7</td>\n",
              "      <td>23</td>\n",
              "      <td>0</td>\n",
              "      <td>5.43</td>\n",
              "      <td>17.25</td>\n",
              "      <td>0.31</td>\n",
              "    </tr>\n",
              "    <tr>\n",
              "      <th>59891</th>\n",
              "      <td>id2837671</td>\n",
              "      <td>2</td>\n",
              "      <td>2016-06-30 16:37:52</td>\n",
              "      <td>2016-07-01 16:37:39</td>\n",
              "      <td>1</td>\n",
              "      <td>-73.99</td>\n",
              "      <td>40.75</td>\n",
              "      <td>-73.96</td>\n",
              "      <td>40.80</td>\n",
              "      <td>N</td>\n",
              "      <td>86387</td>\n",
              "      <td>Thursday</td>\n",
              "      <td>Friday</td>\n",
              "      <td>6</td>\n",
              "      <td>7</td>\n",
              "      <td>16</td>\n",
              "      <td>16</td>\n",
              "      <td>6.20</td>\n",
              "      <td>0.26</td>\n",
              "      <td>24.00</td>\n",
              "    </tr>\n",
              "    <tr>\n",
              "      <th>77419</th>\n",
              "      <td>id2787535</td>\n",
              "      <td>2</td>\n",
              "      <td>2016-06-30 23:51:36</td>\n",
              "      <td>2016-07-01 00:01:20</td>\n",
              "      <td>1</td>\n",
              "      <td>-73.97</td>\n",
              "      <td>40.79</td>\n",
              "      <td>-74.00</td>\n",
              "      <td>40.76</td>\n",
              "      <td>N</td>\n",
              "      <td>584</td>\n",
              "      <td>Thursday</td>\n",
              "      <td>Friday</td>\n",
              "      <td>6</td>\n",
              "      <td>7</td>\n",
              "      <td>23</td>\n",
              "      <td>0</td>\n",
              "      <td>3.51</td>\n",
              "      <td>21.63</td>\n",
              "      <td>0.16</td>\n",
              "    </tr>\n",
              "    <tr>\n",
              "      <th>115092</th>\n",
              "      <td>id2785585</td>\n",
              "      <td>2</td>\n",
              "      <td>2016-06-30 23:47:29</td>\n",
              "      <td>2016-07-01 00:08:00</td>\n",
              "      <td>1</td>\n",
              "      <td>-74.01</td>\n",
              "      <td>40.75</td>\n",
              "      <td>-73.96</td>\n",
              "      <td>40.76</td>\n",
              "      <td>N</td>\n",
              "      <td>1231</td>\n",
              "      <td>Thursday</td>\n",
              "      <td>Friday</td>\n",
              "      <td>6</td>\n",
              "      <td>7</td>\n",
              "      <td>23</td>\n",
              "      <td>0</td>\n",
              "      <td>3.90</td>\n",
              "      <td>11.42</td>\n",
              "      <td>0.34</td>\n",
              "    </tr>\n",
              "  </tbody>\n",
              "</table>\n",
              "</div>\n",
              "      <button class=\"colab-df-convert\" onclick=\"convertToInteractive('df-2069d620-afe5-4a4f-afe0-6730e457a9b1')\"\n",
              "              title=\"Convert this dataframe to an interactive table.\"\n",
              "              style=\"display:none;\">\n",
              "        \n",
              "  <svg xmlns=\"http://www.w3.org/2000/svg\" height=\"24px\"viewBox=\"0 0 24 24\"\n",
              "       width=\"24px\">\n",
              "    <path d=\"M0 0h24v24H0V0z\" fill=\"none\"/>\n",
              "    <path d=\"M18.56 5.44l.94 2.06.94-2.06 2.06-.94-2.06-.94-.94-2.06-.94 2.06-2.06.94zm-11 1L8.5 8.5l.94-2.06 2.06-.94-2.06-.94L8.5 2.5l-.94 2.06-2.06.94zm10 10l.94 2.06.94-2.06 2.06-.94-2.06-.94-.94-2.06-.94 2.06-2.06.94z\"/><path d=\"M17.41 7.96l-1.37-1.37c-.4-.4-.92-.59-1.43-.59-.52 0-1.04.2-1.43.59L10.3 9.45l-7.72 7.72c-.78.78-.78 2.05 0 2.83L4 21.41c.39.39.9.59 1.41.59.51 0 1.02-.2 1.41-.59l7.78-7.78 2.81-2.81c.8-.78.8-2.07 0-2.86zM5.41 20L4 18.59l7.72-7.72 1.47 1.35L5.41 20z\"/>\n",
              "  </svg>\n",
              "      </button>\n",
              "      \n",
              "  <style>\n",
              "    .colab-df-container {\n",
              "      display:flex;\n",
              "      flex-wrap:wrap;\n",
              "      gap: 12px;\n",
              "    }\n",
              "\n",
              "    .colab-df-convert {\n",
              "      background-color: #E8F0FE;\n",
              "      border: none;\n",
              "      border-radius: 50%;\n",
              "      cursor: pointer;\n",
              "      display: none;\n",
              "      fill: #1967D2;\n",
              "      height: 32px;\n",
              "      padding: 0 0 0 0;\n",
              "      width: 32px;\n",
              "    }\n",
              "\n",
              "    .colab-df-convert:hover {\n",
              "      background-color: #E2EBFA;\n",
              "      box-shadow: 0px 1px 2px rgba(60, 64, 67, 0.3), 0px 1px 3px 1px rgba(60, 64, 67, 0.15);\n",
              "      fill: #174EA6;\n",
              "    }\n",
              "\n",
              "    [theme=dark] .colab-df-convert {\n",
              "      background-color: #3B4455;\n",
              "      fill: #D2E3FC;\n",
              "    }\n",
              "\n",
              "    [theme=dark] .colab-df-convert:hover {\n",
              "      background-color: #434B5C;\n",
              "      box-shadow: 0px 1px 3px 1px rgba(0, 0, 0, 0.15);\n",
              "      filter: drop-shadow(0px 1px 2px rgba(0, 0, 0, 0.3));\n",
              "      fill: #FFFFFF;\n",
              "    }\n",
              "  </style>\n",
              "\n",
              "      <script>\n",
              "        const buttonEl =\n",
              "          document.querySelector('#df-2069d620-afe5-4a4f-afe0-6730e457a9b1 button.colab-df-convert');\n",
              "        buttonEl.style.display =\n",
              "          google.colab.kernel.accessAllowed ? 'block' : 'none';\n",
              "\n",
              "        async function convertToInteractive(key) {\n",
              "          const element = document.querySelector('#df-2069d620-afe5-4a4f-afe0-6730e457a9b1');\n",
              "          const dataTable =\n",
              "            await google.colab.kernel.invokeFunction('convertToInteractive',\n",
              "                                                     [key], {});\n",
              "          if (!dataTable) return;\n",
              "\n",
              "          const docLinkHtml = 'Like what you see? Visit the ' +\n",
              "            '<a target=\"_blank\" href=https://colab.research.google.com/notebooks/data_table.ipynb>data table notebook</a>'\n",
              "            + ' to learn more about interactive tables.';\n",
              "          element.innerHTML = '';\n",
              "          dataTable['output_type'] = 'display_data';\n",
              "          await google.colab.output.renderOutput(dataTable, element);\n",
              "          const docLink = document.createElement('div');\n",
              "          docLink.innerHTML = docLinkHtml;\n",
              "          element.appendChild(docLink);\n",
              "        }\n",
              "      </script>\n",
              "    </div>\n",
              "  </div>\n",
              "  "
            ]
          },
          "metadata": {},
          "execution_count": 55
        }
      ],
      "source": [
        "# Few trips has a drop off in 7th month\n",
        "nyc_df[nyc_df['dropoff_month']== 7].head()"
      ]
    },
    {
      "cell_type": "markdown",
      "metadata": {
        "id": "3GHYn2Ci0WTa"
      },
      "source": [
        "Drop off month 7 tell us that **126 trips** started in 6th month and ended in 7th month."
      ]
    },
    {
      "cell_type": "code",
      "execution_count": 56,
      "metadata": {
        "colab": {
          "base_uri": "https://localhost:8080/",
          "height": 585
        },
        "id": "ChixSqf8mQXc",
        "outputId": "53b88580-6d09-4419-986d-590cde490e91"
      },
      "outputs": [
        {
          "output_type": "display_data",
          "data": {
            "text/plain": [
              "<Figure size 720x576 with 2 Axes>"
            ],
            "image/png": "[encoded data removed]"
          },
          "metadata": {
            "needs_background": "light"
          }
        }
      ],
      "source": [
        "# Monthwise pickup and drop off count viz\n",
        "figure,ax=plt.subplots(nrows=2,ncols=1,figsize=(10,8))\n",
        "sns.countplot(x='pickup_month',data=nyc_df, palette = 'bright', ax=ax[0])\n",
        "ax[0].set_title('Month wise Pickup')\n",
        "sns.countplot(x='dropoff_month',data=nyc_df, palette = 'bright', ax=ax[1])\n",
        "ax[1].set_title('Month wise Dropoff')\n",
        "plt.tight_layout()"
      ]
    },
    {
      "cell_type": "code",
      "execution_count": 57,
      "metadata": {
        "colab": {
          "base_uri": "https://localhost:8080/",
          "height": 585
        },
        "id": "UKA5UV3q4zcY",
        "outputId": "d49c0c7c-4921-47af-ee0f-9bb89383f5e6"
      },
      "outputs": [
        {
          "output_type": "display_data",
          "data": {
            "text/plain": [
              "<Figure size 720x576 with 2 Axes>"
            ],
            "image/png": "[encoded data removed]"
          },
          "metadata": {
            "needs_background": "light"
          }
        }
      ],
      "source": [
        "# Hourwise data of Pickup and Drop off\n",
        "figure,ax=plt.subplots(nrows=2,ncols=1,figsize=(10,8))\n",
        "sns.countplot(x='pickup_hr',data=nyc_df, palette = 'bright', ax=ax[0])\n",
        "ax[0].set_title('Pickup Trips Per Hour')\n",
        "sns.countplot(x='dropoff_hour',data=nyc_df, palette = 'bright', ax=ax[1])\n",
        "ax[1].set_title('Drop Off Trips Per Hour')\n",
        "plt.tight_layout()"
      ]
    },
    {
      "cell_type": "markdown",
      "metadata": {
        "id": "0Ii9oiqnVF8e"
      },
      "source": [
        "**Distance Vs Trip_duration**"
      ]
    },
    {
      "cell_type": "code",
      "execution_count": 58,
      "metadata": {
        "colab": {
          "base_uri": "https://localhost:8080/",
          "height": 296
        },
        "id": "U2jQDLYsUfvZ",
        "outputId": "def198b6-068b-4e8e-f8c1-f8262e080806"
      },
      "outputs": [
        {
          "output_type": "display_data",
          "data": {
            "text/plain": [
              "<Figure size 432x288 with 1 Axes>"
            ],
            "image/png": "[encoded data removed]"
          },
          "metadata": {
            "needs_background": "light"
          }
        }
      ],
      "source": [
        "sns.scatterplot(x='trip_duration',y='distance',color='Blue', s=10, data = nyc_df)\n",
        "plt.title('Distance vs Trip duration')\n",
        "plt.show()"
      ]
    },
    {
      "cell_type": "markdown",
      "metadata": {
        "id": "VonUQ1ZMVpUF"
      },
      "source": [
        "Distance vs Trip duration tell us that there are some inconsistencies with data. Time taken is higher comparatively distance covered."
      ]
    },
    {
      "cell_type": "code",
      "execution_count": 59,
      "metadata": {
        "colab": {
          "base_uri": "https://localhost:8080/"
        },
        "id": "P354jmRVR5Gl",
        "outputId": "510b610f-c6d1-45ce-d50c-bf937a32869e"
      },
      "outputs": [
        {
          "output_type": "execute_result",
          "data": {
            "text/plain": [
              "(461, 20)"
            ]
          },
          "metadata": {},
          "execution_count": 59
        }
      ],
      "source": [
        "# Lets see distance covered less than 1km and time taken more than hr or 3600 seconds.\n",
        "temp2 = nyc_df.loc[(nyc_df['distance'] <= 1 ) & (nyc_df['trip_duration'] >= 3600), :]\n",
        "temp2.shape"
      ]
    },
    {
      "cell_type": "markdown",
      "metadata": {
        "id": "91Jax9GeRGjh"
      },
      "source": [
        "There are 461 records. Distance travelled in less than or equal to 1 km and trip duration more than 3600 seconds."
      ]
    },
    {
      "cell_type": "code",
      "execution_count": 60,
      "metadata": {
        "id": "gPvgE6lZWtVS"
      },
      "outputs": [],
      "source": [
        "# Filtering inconsistent data\n",
        "nyc_df = nyc_df[~((nyc_df.distance <=1 ) & (nyc_df.trip_duration >= 3600))]"
      ]
    },
    {
      "cell_type": "code",
      "execution_count": 61,
      "metadata": {
        "id": "CoRHuEScZZo7"
      },
      "outputs": [],
      "source": [
        "# Trip_duration greater than 10000 seconds analysis\n",
        "duration_temp = nyc_df[nyc_df['trip_duration']>=10000]"
      ]
    },
    {
      "cell_type": "code",
      "execution_count": 62,
      "metadata": {
        "colab": {
          "base_uri": "https://localhost:8080/"
        },
        "id": "ouAut4GyZiuc",
        "outputId": "32956490-eb9b-40ef-c5c4-8808a968b0e1"
      },
      "outputs": [
        {
          "output_type": "execute_result",
          "data": {
            "text/plain": [
              "count   1,802.00\n",
              "mean        4.97\n",
              "std         5.46\n",
              "min         1.00\n",
              "25%         1.75\n",
              "50%         2.95\n",
              "75%         5.64\n",
              "max        60.60\n",
              "Name: distance, dtype: float64"
            ]
          },
          "metadata": {},
          "execution_count": 62
        }
      ],
      "source": [
        "# Trip duration more than 10000seconds and its distance analysis.\n",
        "duration_temp.distance.describe()"
      ]
    },
    {
      "cell_type": "markdown",
      "metadata": {
        "id": "TbnOX6qQPZef"
      },
      "source": [
        "Distance attribute from duration_temp tell us that there are 1798 total trips. The average distance covered is 4.95Km and time taken is more than 10000 seconds which translates 166 minutes to 80000+ seconds which is 23+ hrs."
      ]
    },
    {
      "cell_type": "code",
      "execution_count": 63,
      "metadata": {
        "colab": {
          "base_uri": "https://localhost:8080/",
          "height": 296
        },
        "id": "ATaPybbZaUDv",
        "outputId": "2a1518ac-0c8d-4176-d597-e43bb6cfae03"
      },
      "outputs": [
        {
          "output_type": "display_data",
          "data": {
            "text/plain": [
              "<Figure size 432x288 with 1 Axes>"
            ],
            "image/png": "[encoded data removed]"
          },
          "metadata": {
            "needs_background": "light"
          }
        }
      ],
      "source": [
        "# Trip Duration greater than 10000seconds and distance viz.\n",
        "sns.scatterplot(y = duration_temp.distance, x = duration_temp.trip_duration, s = 5, color='Blue')\n",
        "plt.title('Trip Duration Vs Distance')\n",
        "plt.show()"
      ]
    },
    {
      "cell_type": "code",
      "execution_count": 64,
      "metadata": {
        "id": "vrUUWLNCXtL0"
      },
      "outputs": [],
      "source": [
        "# Keeping records with trip_duration upto 10000seconds.\n",
        "nyc_df = nyc_df[nyc_df.trip_duration<=10000]"
      ]
    },
    {
      "cell_type": "code",
      "execution_count": 65,
      "metadata": {
        "colab": {
          "base_uri": "https://localhost:8080/",
          "height": 296
        },
        "id": "_Ic4vqOEb1oT",
        "outputId": "7848afce-0f7f-4e86-ee0c-e255203f8121"
      },
      "outputs": [
        {
          "output_type": "display_data",
          "data": {
            "text/plain": [
              "<Figure size 432x288 with 1 Axes>"
            ],
            "image/png": "[encoded data removed]"
          },
          "metadata": {
            "needs_background": "light"
          }
        }
      ],
      "source": [
        "sns.scatterplot(x='trip_duration',y='distance',color='Blue', s=10, data = nyc_df)\n",
        "plt.title('Trip duration-Distance')\n",
        "plt.show()"
      ]
    },
    {
      "cell_type": "code",
      "execution_count": 66,
      "metadata": {
        "colab": {
          "base_uri": "https://localhost:8080/",
          "height": 344
        },
        "id": "t1P2ak_kZznG",
        "outputId": "e262cce5-7b37-42e4-a148-a023122317c7"
      },
      "outputs": [
        {
          "output_type": "display_data",
          "data": {
            "text/plain": [
              "<Figure size 432x288 with 2 Axes>"
            ],
            "image/png": "[encoded data removed]"
          },
          "metadata": {
            "needs_background": "light"
          }
        }
      ],
      "source": [
        "# Correlation matrix\n",
        "sns.heatmap(nyc_df[['passenger_count', 'pickup_month', 'pickup_hr', 'distance', 'trip_duration']].corr(), cmap='Blues', annot=True)\n",
        "plt.show()"
      ]
    },
    {
      "cell_type": "markdown",
      "metadata": {
        "id": "e9IrHlLnZA2O"
      },
      "source": [
        "**Model Preparation and Building Models**"
      ]
    },
    {
      "cell_type": "code",
      "execution_count": 67,
      "metadata": {
        "id": "53dmrS-62s3U"
      },
      "outputs": [],
      "source": [
        "# Copy of wrangled dataset\n",
        "nycdf = nyc_df.copy()"
      ]
    },
    {
      "cell_type": "code",
      "execution_count": 68,
      "metadata": {
        "colab": {
          "base_uri": "https://localhost:8080/"
        },
        "id": "ichbXGdxZUeA",
        "outputId": "84266ebc-dbb0-4c2a-94bd-f74449d76277"
      },
      "outputs": [
        {
          "output_type": "execute_result",
          "data": {
            "text/plain": [
              "Index(['id', 'vendor_id', 'pickup_datetime', 'dropoff_datetime',\n",
              "       'passenger_count', 'pickup_longitude', 'pickup_latitude',\n",
              "       'dropoff_longitude', 'dropoff_latitude', 'store_and_fwd_flag',\n",
              "       'trip_duration', 'pickup_day', 'dropoff_day', 'pickup_month',\n",
              "       'dropoff_month', 'pickup_hr', 'dropoff_hour', 'distance', 'speed',\n",
              "       'trip_duration_hour'],\n",
              "      dtype='object')"
            ]
          },
          "metadata": {},
          "execution_count": 68
        }
      ],
      "source": [
        "# Column names \n",
        "nycdf.columns"
      ]
    },
    {
      "cell_type": "code",
      "execution_count": 69,
      "metadata": {
        "id": "S0hGF7O74z5w"
      },
      "outputs": [],
      "source": [
        "# Dropping some features to create x varaibles.\n",
        "nyc_x = nycdf.drop(['id', 'vendor_id', 'pickup_longitude', 'pickup_datetime','dropoff_datetime', 'store_and_fwd_flag', 'pickup_latitude', 'dropoff_longitude', 'dropoff_latitude', 'trip_duration', 'speed', 'trip_duration_hour'], axis = 1)"
      ]
    },
    {
      "cell_type": "code",
      "execution_count": 70,
      "metadata": {
        "colab": {
          "base_uri": "https://localhost:8080/",
          "height": 112
        },
        "id": "iT1HvAI66y_p",
        "outputId": "a3eb3f1b-e2f1-4102-bad2-e9fd68abe4cd"
      },
      "outputs": [
        {
          "output_type": "execute_result",
          "data": {
            "text/plain": [
              "   passenger_count pickup_day dropoff_day  pickup_month  dropoff_month  \\\n",
              "0                1     Monday      Monday             3              3   \n",
              "1                1     Sunday      Sunday             6              6   \n",
              "\n",
              "   pickup_hr  dropoff_hour  distance  \n",
              "0         17            17      1.50  \n",
              "1          0             0      1.81  "
            ],
            "text/html": [
              "\n",
              "  <div id=\"df-a0c27189-5b47-4b4f-b721-77d5fb723283\">\n",
              "    <div class=\"colab-df-container\">\n",
              "      <div>\n",
              "<style scoped>\n",
              "    .dataframe tbody tr th:only-of-type {\n",
              "        vertical-align: middle;\n",
              "    }\n",
              "\n",
              "    .dataframe tbody tr th {\n",
              "        vertical-align: top;\n",
              "    }\n",
              "\n",
              "    .dataframe thead th {\n",
              "        text-align: right;\n",
              "    }\n",
              "</style>\n",
              "<table border=\"1\" class=\"dataframe\">\n",
              "  <thead>\n",
              "    <tr style=\"text-align: right;\">\n",
              "      <th></th>\n",
              "      <th>passenger_count</th>\n",
              "      <th>pickup_day</th>\n",
              "      <th>dropoff_day</th>\n",
              "      <th>pickup_month</th>\n",
              "      <th>dropoff_month</th>\n",
              "      <th>pickup_hr</th>\n",
              "      <th>dropoff_hour</th>\n",
              "      <th>distance</th>\n",
              "    </tr>\n",
              "  </thead>\n",
              "  <tbody>\n",
              "    <tr>\n",
              "      <th>0</th>\n",
              "      <td>1</td>\n",
              "      <td>Monday</td>\n",
              "      <td>Monday</td>\n",
              "      <td>3</td>\n",
              "      <td>3</td>\n",
              "      <td>17</td>\n",
              "      <td>17</td>\n",
              "      <td>1.50</td>\n",
              "    </tr>\n",
              "    <tr>\n",
              "      <th>1</th>\n",
              "      <td>1</td>\n",
              "      <td>Sunday</td>\n",
              "      <td>Sunday</td>\n",
              "      <td>6</td>\n",
              "      <td>6</td>\n",
              "      <td>0</td>\n",
              "      <td>0</td>\n",
              "      <td>1.81</td>\n",
              "    </tr>\n",
              "  </tbody>\n",
              "</table>\n",
              "</div>\n",
              "      <button class=\"colab-df-convert\" onclick=\"convertToInteractive('df-a0c27189-5b47-4b4f-b721-77d5fb723283')\"\n",
              "              title=\"Convert this dataframe to an interactive table.\"\n",
              "              style=\"display:none;\">\n",
              "        \n",
              "  <svg xmlns=\"http://www.w3.org/2000/svg\" height=\"24px\"viewBox=\"0 0 24 24\"\n",
              "       width=\"24px\">\n",
              "    <path d=\"M0 0h24v24H0V0z\" fill=\"none\"/>\n",
              "    <path d=\"M18.56 5.44l.94 2.06.94-2.06 2.06-.94-2.06-.94-.94-2.06-.94 2.06-2.06.94zm-11 1L8.5 8.5l.94-2.06 2.06-.94-2.06-.94L8.5 2.5l-.94 2.06-2.06.94zm10 10l.94 2.06.94-2.06 2.06-.94-2.06-.94-.94-2.06-.94 2.06-2.06.94z\"/><path d=\"M17.41 7.96l-1.37-1.37c-.4-.4-.92-.59-1.43-.59-.52 0-1.04.2-1.43.59L10.3 9.45l-7.72 7.72c-.78.78-.78 2.05 0 2.83L4 21.41c.39.39.9.59 1.41.59.51 0 1.02-.2 1.41-.59l7.78-7.78 2.81-2.81c.8-.78.8-2.07 0-2.86zM5.41 20L4 18.59l7.72-7.72 1.47 1.35L5.41 20z\"/>\n",
              "  </svg>\n",
              "      </button>\n",
              "      \n",
              "  <style>\n",
              "    .colab-df-container {\n",
              "      display:flex;\n",
              "      flex-wrap:wrap;\n",
              "      gap: 12px;\n",
              "    }\n",
              "\n",
              "    .colab-df-convert {\n",
              "      background-color: #E8F0FE;\n",
              "      border: none;\n",
              "      border-radius: 50%;\n",
              "      cursor: pointer;\n",
              "      display: none;\n",
              "      fill: #1967D2;\n",
              "      height: 32px;\n",
              "      padding: 0 0 0 0;\n",
              "      width: 32px;\n",
              "    }\n",
              "\n",
              "    .colab-df-convert:hover {\n",
              "      background-color: #E2EBFA;\n",
              "      box-shadow: 0px 1px 2px rgba(60, 64, 67, 0.3), 0px 1px 3px 1px rgba(60, 64, 67, 0.15);\n",
              "      fill: #174EA6;\n",
              "    }\n",
              "\n",
              "    [theme=dark] .colab-df-convert {\n",
              "      background-color: #3B4455;\n",
              "      fill: #D2E3FC;\n",
              "    }\n",
              "\n",
              "    [theme=dark] .colab-df-convert:hover {\n",
              "      background-color: #434B5C;\n",
              "      box-shadow: 0px 1px 3px 1px rgba(0, 0, 0, 0.15);\n",
              "      filter: drop-shadow(0px 1px 2px rgba(0, 0, 0, 0.3));\n",
              "      fill: #FFFFFF;\n",
              "    }\n",
              "  </style>\n",
              "\n",
              "      <script>\n",
              "        const buttonEl =\n",
              "          document.querySelector('#df-a0c27189-5b47-4b4f-b721-77d5fb723283 button.colab-df-convert');\n",
              "        buttonEl.style.display =\n",
              "          google.colab.kernel.accessAllowed ? 'block' : 'none';\n",
              "\n",
              "        async function convertToInteractive(key) {\n",
              "          const element = document.querySelector('#df-a0c27189-5b47-4b4f-b721-77d5fb723283');\n",
              "          const dataTable =\n",
              "            await google.colab.kernel.invokeFunction('convertToInteractive',\n",
              "                                                     [key], {});\n",
              "          if (!dataTable) return;\n",
              "\n",
              "          const docLinkHtml = 'Like what you see? Visit the ' +\n",
              "            '<a target=\"_blank\" href=https://colab.research.google.com/notebooks/data_table.ipynb>data table notebook</a>'\n",
              "            + ' to learn more about interactive tables.';\n",
              "          element.innerHTML = '';\n",
              "          dataTable['output_type'] = 'display_data';\n",
              "          await google.colab.output.renderOutput(dataTable, element);\n",
              "          const docLink = document.createElement('div');\n",
              "          docLink.innerHTML = docLinkHtml;\n",
              "          element.appendChild(docLink);\n",
              "        }\n",
              "      </script>\n",
              "    </div>\n",
              "  </div>\n",
              "  "
            ]
          },
          "metadata": {},
          "execution_count": 70
        }
      ],
      "source": [
        "# Independent features.\n",
        "nyc_x.head(2)"
      ]
    },
    {
      "cell_type": "code",
      "execution_count": 71,
      "metadata": {
        "id": "iMhqjTCj60MR"
      },
      "outputs": [],
      "source": [
        "# Independent Variables. Converted categorical into numbers using one hot coding. \n",
        "nyc_X = pd.get_dummies(nyc_x, columns=[\"pickup_day\", 'dropoff_day'], prefix=[\"day\", 'drop_day' ], drop_first=True)"
      ]
    },
    {
      "cell_type": "code",
      "execution_count": 72,
      "metadata": {
        "colab": {
          "base_uri": "https://localhost:8080/",
          "height": 270
        },
        "id": "SlDhSCaL7tgr",
        "outputId": "e54073f1-7191-4997-ab74-ea12c6fbd372"
      },
      "outputs": [
        {
          "output_type": "execute_result",
          "data": {
            "text/plain": [
              "   passenger_count  pickup_month  dropoff_month  pickup_hr  dropoff_hour  \\\n",
              "0                1             3              3         17            17   \n",
              "1                1             6              6          0             0   \n",
              "2                1             1              1         11            12   \n",
              "3                1             4              4         19            19   \n",
              "4                1             3              3         13            13   \n",
              "\n",
              "   distance  day_Monday  day_Saturday  day_Sunday  day_Thursday  day_Tuesday  \\\n",
              "0      1.50           1             0           0             0            0   \n",
              "1      1.81           0             0           1             0            0   \n",
              "2      6.39           0             0           0             0            1   \n",
              "3      1.49           0             0           0             0            0   \n",
              "4      1.19           0             1           0             0            0   \n",
              "\n",
              "   day_Wednesday  drop_day_Monday  drop_day_Saturday  drop_day_Sunday  \\\n",
              "0              0                1                  0                0   \n",
              "1              0                0                  0                1   \n",
              "2              0                0                  0                0   \n",
              "3              1                0                  0                0   \n",
              "4              0                0                  1                0   \n",
              "\n",
              "   drop_day_Thursday  drop_day_Tuesday  drop_day_Wednesday  \n",
              "0                  0                 0                   0  \n",
              "1                  0                 0                   0  \n",
              "2                  0                 1                   0  \n",
              "3                  0                 0                   1  \n",
              "4                  0                 0                   0  "
            ],
            "text/html": [
              "\n",
              "  <div id=\"df-c22c4ac9-6457-4232-93e9-bdd32c3ca4d0\">\n",
              "    <div class=\"colab-df-container\">\n",
              "      <div>\n",
              "<style scoped>\n",
              "    .dataframe tbody tr th:only-of-type {\n",
              "        vertical-align: middle;\n",
              "    }\n",
              "\n",
              "    .dataframe tbody tr th {\n",
              "        vertical-align: top;\n",
              "    }\n",
              "\n",
              "    .dataframe thead th {\n",
              "        text-align: right;\n",
              "    }\n",
              "</style>\n",
              "<table border=\"1\" class=\"dataframe\">\n",
              "  <thead>\n",
              "    <tr style=\"text-align: right;\">\n",
              "      <th></th>\n",
              "      <th>passenger_count</th>\n",
              "      <th>pickup_month</th>\n",
              "      <th>dropoff_month</th>\n",
              "      <th>pickup_hr</th>\n",
              "      <th>dropoff_hour</th>\n",
              "      <th>distance</th>\n",
              "      <th>day_Monday</th>\n",
              "      <th>day_Saturday</th>\n",
              "      <th>day_Sunday</th>\n",
              "      <th>day_Thursday</th>\n",
              "      <th>day_Tuesday</th>\n",
              "      <th>day_Wednesday</th>\n",
              "      <th>drop_day_Monday</th>\n",
              "      <th>drop_day_Saturday</th>\n",
              "      <th>drop_day_Sunday</th>\n",
              "      <th>drop_day_Thursday</th>\n",
              "      <th>drop_day_Tuesday</th>\n",
              "      <th>drop_day_Wednesday</th>\n",
              "    </tr>\n",
              "  </thead>\n",
              "  <tbody>\n",
              "    <tr>\n",
              "      <th>0</th>\n",
              "      <td>1</td>\n",
              "      <td>3</td>\n",
              "      <td>3</td>\n",
              "      <td>17</td>\n",
              "      <td>17</td>\n",
              "      <td>1.50</td>\n",
              "      <td>1</td>\n",
              "      <td>0</td>\n",
              "      <td>0</td>\n",
              "      <td>0</td>\n",
              "      <td>0</td>\n",
              "      <td>0</td>\n",
              "      <td>1</td>\n",
              "      <td>0</td>\n",
              "      <td>0</td>\n",
              "      <td>0</td>\n",
              "      <td>0</td>\n",
              "      <td>0</td>\n",
              "    </tr>\n",
              "    <tr>\n",
              "      <th>1</th>\n",
              "      <td>1</td>\n",
              "      <td>6</td>\n",
              "      <td>6</td>\n",
              "      <td>0</td>\n",
              "      <td>0</td>\n",
              "      <td>1.81</td>\n",
              "      <td>0</td>\n",
              "      <td>0</td>\n",
              "      <td>1</td>\n",
              "      <td>0</td>\n",
              "      <td>0</td>\n",
              "      <td>0</td>\n",
              "      <td>0</td>\n",
              "      <td>0</td>\n",
              "      <td>1</td>\n",
              "      <td>0</td>\n",
              "      <td>0</td>\n",
              "      <td>0</td>\n",
              "    </tr>\n",
              "    <tr>\n",
              "      <th>2</th>\n",
              "      <td>1</td>\n",
              "      <td>1</td>\n",
              "      <td>1</td>\n",
              "      <td>11</td>\n",
              "      <td>12</td>\n",
              "      <td>6.39</td>\n",
              "      <td>0</td>\n",
              "      <td>0</td>\n",
              "      <td>0</td>\n",
              "      <td>0</td>\n",
              "      <td>1</td>\n",
              "      <td>0</td>\n",
              "      <td>0</td>\n",
              "      <td>0</td>\n",
              "      <td>0</td>\n",
              "      <td>0</td>\n",
              "      <td>1</td>\n",
              "      <td>0</td>\n",
              "    </tr>\n",
              "    <tr>\n",
              "      <th>3</th>\n",
              "      <td>1</td>\n",
              "      <td>4</td>\n",
              "      <td>4</td>\n",
              "      <td>19</td>\n",
              "      <td>19</td>\n",
              "      <td>1.49</td>\n",
              "      <td>0</td>\n",
              "      <td>0</td>\n",
              "      <td>0</td>\n",
              "      <td>0</td>\n",
              "      <td>0</td>\n",
              "      <td>1</td>\n",
              "      <td>0</td>\n",
              "      <td>0</td>\n",
              "      <td>0</td>\n",
              "      <td>0</td>\n",
              "      <td>0</td>\n",
              "      <td>1</td>\n",
              "    </tr>\n",
              "    <tr>\n",
              "      <th>4</th>\n",
              "      <td>1</td>\n",
              "      <td>3</td>\n",
              "      <td>3</td>\n",
              "      <td>13</td>\n",
              "      <td>13</td>\n",
              "      <td>1.19</td>\n",
              "      <td>0</td>\n",
              "      <td>1</td>\n",
              "      <td>0</td>\n",
              "      <td>0</td>\n",
              "      <td>0</td>\n",
              "      <td>0</td>\n",
              "      <td>0</td>\n",
              "      <td>1</td>\n",
              "      <td>0</td>\n",
              "      <td>0</td>\n",
              "      <td>0</td>\n",
              "      <td>0</td>\n",
              "    </tr>\n",
              "  </tbody>\n",
              "</table>\n",
              "</div>\n",
              "      <button class=\"colab-df-convert\" onclick=\"convertToInteractive('df-c22c4ac9-6457-4232-93e9-bdd32c3ca4d0')\"\n",
              "              title=\"Convert this dataframe to an interactive table.\"\n",
              "              style=\"display:none;\">\n",
              "        \n",
              "  <svg xmlns=\"http://www.w3.org/2000/svg\" height=\"24px\"viewBox=\"0 0 24 24\"\n",
              "       width=\"24px\">\n",
              "    <path d=\"M0 0h24v24H0V0z\" fill=\"none\"/>\n",
              "    <path d=\"M18.56 5.44l.94 2.06.94-2.06 2.06-.94-2.06-.94-.94-2.06-.94 2.06-2.06.94zm-11 1L8.5 8.5l.94-2.06 2.06-.94-2.06-.94L8.5 2.5l-.94 2.06-2.06.94zm10 10l.94 2.06.94-2.06 2.06-.94-2.06-.94-.94-2.06-.94 2.06-2.06.94z\"/><path d=\"M17.41 7.96l-1.37-1.37c-.4-.4-.92-.59-1.43-.59-.52 0-1.04.2-1.43.59L10.3 9.45l-7.72 7.72c-.78.78-.78 2.05 0 2.83L4 21.41c.39.39.9.59 1.41.59.51 0 1.02-.2 1.41-.59l7.78-7.78 2.81-2.81c.8-.78.8-2.07 0-2.86zM5.41 20L4 18.59l7.72-7.72 1.47 1.35L5.41 20z\"/>\n",
              "  </svg>\n",
              "      </button>\n",
              "      \n",
              "  <style>\n",
              "    .colab-df-container {\n",
              "      display:flex;\n",
              "      flex-wrap:wrap;\n",
              "      gap: 12px;\n",
              "    }\n",
              "\n",
              "    .colab-df-convert {\n",
              "      background-color: #E8F0FE;\n",
              "      border: none;\n",
              "      border-radius: 50%;\n",
              "      cursor: pointer;\n",
              "      display: none;\n",
              "      fill: #1967D2;\n",
              "      height: 32px;\n",
              "      padding: 0 0 0 0;\n",
              "      width: 32px;\n",
              "    }\n",
              "\n",
              "    .colab-df-convert:hover {\n",
              "      background-color: #E2EBFA;\n",
              "      box-shadow: 0px 1px 2px rgba(60, 64, 67, 0.3), 0px 1px 3px 1px rgba(60, 64, 67, 0.15);\n",
              "      fill: #174EA6;\n",
              "    }\n",
              "\n",
              "    [theme=dark] .colab-df-convert {\n",
              "      background-color: #3B4455;\n",
              "      fill: #D2E3FC;\n",
              "    }\n",
              "\n",
              "    [theme=dark] .colab-df-convert:hover {\n",
              "      background-color: #434B5C;\n",
              "      box-shadow: 0px 1px 3px 1px rgba(0, 0, 0, 0.15);\n",
              "      filter: drop-shadow(0px 1px 2px rgba(0, 0, 0, 0.3));\n",
              "      fill: #FFFFFF;\n",
              "    }\n",
              "  </style>\n",
              "\n",
              "      <script>\n",
              "        const buttonEl =\n",
              "          document.querySelector('#df-c22c4ac9-6457-4232-93e9-bdd32c3ca4d0 button.colab-df-convert');\n",
              "        buttonEl.style.display =\n",
              "          google.colab.kernel.accessAllowed ? 'block' : 'none';\n",
              "\n",
              "        async function convertToInteractive(key) {\n",
              "          const element = document.querySelector('#df-c22c4ac9-6457-4232-93e9-bdd32c3ca4d0');\n",
              "          const dataTable =\n",
              "            await google.colab.kernel.invokeFunction('convertToInteractive',\n",
              "                                                     [key], {});\n",
              "          if (!dataTable) return;\n",
              "\n",
              "          const docLinkHtml = 'Like what you see? Visit the ' +\n",
              "            '<a target=\"_blank\" href=https://colab.research.google.com/notebooks/data_table.ipynb>data table notebook</a>'\n",
              "            + ' to learn more about interactive tables.';\n",
              "          element.innerHTML = '';\n",
              "          dataTable['output_type'] = 'display_data';\n",
              "          await google.colab.output.renderOutput(dataTable, element);\n",
              "          const docLink = document.createElement('div');\n",
              "          docLink.innerHTML = docLinkHtml;\n",
              "          element.appendChild(docLink);\n",
              "        }\n",
              "      </script>\n",
              "    </div>\n",
              "  </div>\n",
              "  "
            ]
          },
          "metadata": {},
          "execution_count": 72
        }
      ],
      "source": [
        "# Independent features.\n",
        "nyc_X.head()"
      ]
    },
    {
      "cell_type": "markdown",
      "metadata": {
        "id": "zUX9qrH_ZU8W"
      },
      "source": [
        "For this prediction using following Regressors.\n",
        "* Linear Regression \n",
        "* Decision Tree\n",
        "* Decision Tree with Hyperparameter Tuning\n",
        "* Random Forest- Bagging\n",
        "* XG Boost - Boosting "
      ]
    },
    {
      "cell_type": "code",
      "execution_count": 73,
      "metadata": {
        "id": "8RWge2wCdU4k"
      },
      "outputs": [],
      "source": [
        "# Selecting X variables and y varible for model training\n",
        "X = nyc_X\n",
        "y = nycdf['trip_duration']"
      ]
    },
    {
      "cell_type": "code",
      "execution_count": 74,
      "metadata": {
        "id": "f50w7ihveA7S"
      },
      "outputs": [],
      "source": [
        "# Split data into test and train\n",
        "from sklearn.model_selection import train_test_split\n",
        "X_train, X_test, y_train, y_test=train_test_split(X,y, test_size=0.2, random_state=42)"
      ]
    },
    {
      "cell_type": "code",
      "execution_count": 75,
      "metadata": {
        "id": "bDZQATJMdo7s"
      },
      "outputs": [],
      "source": [
        "# Scaling X features so that all values lies in same scale\n",
        "from sklearn.preprocessing import StandardScaler\n",
        "scaler = StandardScaler()\n",
        "X_train=scaler.fit_transform(X_train)\n",
        "X_test=scaler.transform(X_test)"
      ]
    },
    {
      "cell_type": "code",
      "execution_count": 76,
      "metadata": {
        "colab": {
          "base_uri": "https://localhost:8080/"
        },
        "id": "Cap6DOSGS-gb",
        "outputId": "be519be4-17a6-444f-f33d-e86593dad21e"
      },
      "outputs": [
        {
          "output_type": "stream",
          "name": "stdout",
          "text": [
            "(1158048, 18) (1158048,)\n",
            "(289513, 18) (289513,)\n"
          ]
        }
      ],
      "source": [
        "# Check the shape of train dataset\n",
        "print(X_train.shape,y_train.shape)\n",
        "# Check the shape of test dataset\n",
        "print(X_test.shape, y_test.shape)"
      ]
    },
    {
      "cell_type": "code",
      "execution_count": 77,
      "metadata": {
        "id": "91MmXsh6e8iD"
      },
      "outputs": [],
      "source": [
        "# Evaluation metrics \n",
        "def evaluation_metrics(actual, predict,model=''):\n",
        "\n",
        "  print(f\"{model} R2    :\", r2_score(actual,predict))\n",
        "  print(f\"{model} MSE   :\", mean_squared_error(actual,predict))\n",
        "  print(f\"{model} RMSE  :\", np.sqrt(mean_squared_error(actual,predict)))"
      ]
    },
    {
      "cell_type": "code",
      "execution_count": 78,
      "metadata": {
        "id": "uw1Ubjdresh3"
      },
      "outputs": [],
      "source": [
        "from sklearn.linear_model import LinearRegression\n",
        "from sklearn.tree import DecisionTreeRegressor\n",
        "from sklearn.metrics import r2_score, mean_squared_error\n",
        "from sklearn.model_selection import cross_val_score\n",
        "from sklearn.model_selection import GridSearchCV\n",
        "from sklearn.ensemble import RandomForestRegressor\n",
        "from xgboost import XGBRegressor"
      ]
    },
    {
      "cell_type": "code",
      "execution_count": 79,
      "metadata": {
        "colab": {
          "base_uri": "https://localhost:8080/"
        },
        "id": "yl2EyKwN9WsP",
        "outputId": "1b8f9d74-6551-4b8b-8bfa-691d443c6843"
      },
      "outputs": [
        {
          "output_type": "execute_result",
          "data": {
            "text/plain": [
              "LinearRegression()"
            ]
          },
          "metadata": {},
          "execution_count": 79
        }
      ],
      "source": [
        "# Import and fit Linear Regression \n",
        "LR = LinearRegression()\n",
        "# Fit X and y \n",
        "LR.fit(X_train, y_train)"
      ]
    },
    {
      "cell_type": "code",
      "execution_count": 80,
      "metadata": {
        "id": "kJKKBi2h-dfW"
      },
      "outputs": [],
      "source": [
        "# Dependent var prediction on train and test\n",
        "y_pred_train = LR.predict(X_train)\n",
        "y_pred = LR.predict(X_test)"
      ]
    },
    {
      "cell_type": "code",
      "execution_count": 81,
      "metadata": {
        "colab": {
          "base_uri": "https://localhost:8080/"
        },
        "id": "uaMQBlHde47X",
        "outputId": "0025f4e2-9cb2-43a1-dc64-950fa9952205"
      },
      "outputs": [
        {
          "output_type": "stream",
          "name": "stdout",
          "text": [
            "LR_train R2    : 0.6054229738786137\n",
            "LR_train MSE   : 169569.92256174498\n",
            "LR_train RMSE  : 411.7886867821225\n",
            "LR_Test R2    : 0.6062435425221119\n",
            "LR_Test MSE   : 168846.67121456488\n",
            "LR_Test RMSE  : 410.9095657374806\n",
            "Adjusted R2 :  0.6062190597479107\n"
          ]
        }
      ],
      "source": [
        "# Evaluation Metrics\n",
        "evaluation_metrics((y_train),(y_pred_train),'LR_train')\n",
        "evaluation_metrics((y_test),(y_pred),'LR_Test')\n",
        "print(\"Adjusted R2 : \",1-(1-r2_score((y_test), (y_pred)))*((X_test.shape[0]-1)/(X_test.shape[0]-X_test.shape[1]-1)))"
      ]
    },
    {
      "cell_type": "markdown",
      "metadata": {
        "id": "CPd1jYu_Yzg1"
      },
      "source": [
        "For both train and test data got 0.60 R2 score. It shows Linear Regression not able to capture correct underlaying patterns. Ideally 1 or closer to 1 R2 score  means regression able to capture 100% of the variance from Target variable."
      ]
    },
    {
      "cell_type": "markdown",
      "metadata": {
        "id": "HNC4CPhnQBlt"
      },
      "source": [
        "**Decision Tree**"
      ]
    },
    {
      "cell_type": "code",
      "execution_count": 82,
      "metadata": {
        "colab": {
          "base_uri": "https://localhost:8080/"
        },
        "id": "9_qVQs8mjOl5",
        "outputId": "7d29ee76-c5ca-453c-d884-416cdcb26b9b"
      },
      "outputs": [
        {
          "output_type": "stream",
          "name": "stdout",
          "text": [
            "0.4898242531642801\n"
          ]
        }
      ],
      "source": [
        "# DT with default parameters\n",
        "from sklearn.tree import DecisionTreeRegressor\n",
        "dt = DecisionTreeRegressor()\n",
        "scores = cross_val_score(dt, X_train, y_train, cv=5, scoring='r2') #Newly added. The function cross_val_score takes an average over cross-validation folds.\n",
        "print(scores.mean()) #Newly added\n",
        "dt.fit(X_train, y_train)\n",
        "# Predictions\n",
        "y_pred_train = dt.predict(X_train)\n",
        "y_pred = dt.predict(X_test)"
      ]
    },
    {
      "cell_type": "code",
      "execution_count": 83,
      "metadata": {
        "colab": {
          "base_uri": "https://localhost:8080/"
        },
        "id": "caPdP3BPKTzh",
        "outputId": "fb86dd03-3ddb-4281-9ba4-351107259f01"
      },
      "outputs": [
        {
          "output_type": "stream",
          "name": "stdout",
          "text": [
            "The training r2 score is 0.9994517030287458\n",
            "The testing r2 score is 0.49567176401877466\n",
            "__________________________________________________\n",
            "Train and test score tell us model is overfitting\n"
          ]
        }
      ],
      "source": [
        "print('The training r2 score is', r2_score(y_train, y_pred_train))\n",
        "print('The testing r2 score is', r2_score(y_test, y_pred))\n",
        "print('_'*50)\n",
        "print('Train and test score tell us model is overfitting')"
      ]
    },
    {
      "cell_type": "code",
      "execution_count": 84,
      "metadata": {
        "colab": {
          "base_uri": "https://localhost:8080/"
        },
        "id": "lSo9WRkXh0a_",
        "outputId": "72a8490c-ca80-4a65-c1a8-3142942d175d"
      },
      "outputs": [
        {
          "output_type": "stream",
          "name": "stdout",
          "text": [
            "DTR_train R2    : 0.9994517030287458\n",
            "DTR_train MSE   : 235.63124257473828\n",
            "DTR_train RMSE  : 15.350284771779913\n",
            "DTR_Test R2    : 0.49567176401877466\n",
            "DTR_Test MSE   : 216260.9456372544\n",
            "DTR_Test RMSE  : 465.0386496166253\n",
            "Adjusted R2 Train:  0.9994516689370357\n",
            "Adjusted R2 Test :  0.49564040617285166\n"
          ]
        }
      ],
      "source": [
        "# Decision tree evaluation without hypertuning\n",
        "evaluation_metrics((y_train),(y_pred_train),'DTR_train')\n",
        "evaluation_metrics((y_test),(y_pred),'DTR_Test')\n",
        "print(\"Adjusted R2 Train: \",1-(1-r2_score((y_train), (y_pred_train)))*((X_test.shape[0]-1)/(X_test.shape[0]-X_test.shape[1]-1)))\n",
        "print(\"Adjusted R2 Test : \",1-(1-r2_score((y_test), (y_pred)))*((X_test.shape[0]-1)/(X_test.shape[0]-X_test.shape[1]-1)))"
      ]
    },
    {
      "cell_type": "markdown",
      "metadata": {
        "id": "HWhlDlLChADK"
      },
      "source": [
        "Decision Trees are flexible and captures all available information in Training test. It leads to model overfit and causes concern for unseen data. It wont give good accuracy on Unseen data. "
      ]
    },
    {
      "cell_type": "markdown",
      "metadata": {
        "id": "ea01JbdwigSe"
      },
      "source": [
        "**Decision Tree Hyperparameter Tuning**"
      ]
    },
    {
      "cell_type": "code",
      "execution_count": 85,
      "metadata": {
        "id": "PD3CtOsZGB6Y"
      },
      "outputs": [],
      "source": [
        "# Maximum depth of trees\n",
        "max_depth = [3,6,9,12,15]\n",
        "# Minimum number of samples required to split a node\n",
        "min_samples_split = [4,7,10,13,15]\n",
        "# Minimum number of samples required at each leaf node\n",
        "min_samples_leaf = [5,10,15,20]\n",
        "# Hyperparameter Grid\n",
        "param_dict = {'max_depth' : max_depth,\n",
        "              'min_samples_split' : min_samples_split,\n",
        "              'min_samples_leaf' : min_samples_leaf}"
      ]
    },
    {
      "cell_type": "code",
      "execution_count": 86,
      "metadata": {
        "colab": {
          "base_uri": "https://localhost:8080/"
        },
        "id": "FeW79uI8HUvt",
        "outputId": "b2058f06-b4cb-4e5d-82b9-ce8e755f7119"
      },
      "outputs": [
        {
          "output_type": "stream",
          "name": "stdout",
          "text": [
            "Fitting 3 folds for each of 100 candidates, totalling 300 fits\n"
          ]
        },
        {
          "output_type": "execute_result",
          "data": {
            "text/plain": [
              "GridSearchCV(cv=3, estimator=DecisionTreeRegressor(),\n",
              "             param_grid={'max_depth': [3, 6, 9, 12, 15],\n",
              "                         'min_samples_leaf': [5, 10, 15, 20],\n",
              "                         'min_samples_split': [4, 7, 10, 13, 15]},\n",
              "             scoring='r2', verbose=1)"
            ]
          },
          "metadata": {},
          "execution_count": 86
        }
      ],
      "source": [
        "from sklearn.model_selection import GridSearchCV\n",
        "DT = DecisionTreeRegressor()\n",
        "# Grid search\n",
        "DT_grid = GridSearchCV(estimator=DT, param_grid = param_dict, cv = 3, verbose=1, scoring='r2')\n",
        "# Fitting model\n",
        "DT_grid.fit(X_train,y_train)"
      ]
    },
    {
      "cell_type": "code",
      "execution_count": 87,
      "metadata": {
        "colab": {
          "base_uri": "https://localhost:8080/"
        },
        "id": "IPWdW4WSJYmj",
        "outputId": "74511ecb-69d5-40bb-9dc8-0d94f6c83368"
      },
      "outputs": [
        {
          "output_type": "stream",
          "name": "stdout",
          "text": [
            "The best estimator DecisionTreeRegressor(max_depth=15, min_samples_leaf=20, min_samples_split=4)\n",
            "The R2 score using the parameters: 0.7261612750895234\n"
          ]
        }
      ],
      "source": [
        "print('The best estimator', DT_grid.best_estimator_) #Newly added\n",
        "print('The R2 score using the parameters:', DT_grid.best_score_)"
      ]
    },
    {
      "cell_type": "code",
      "execution_count": 88,
      "metadata": {
        "id": "DIq6Enk7Jd51"
      },
      "outputs": [],
      "source": [
        "y_predict_train = DT_grid.predict(X_train)\n",
        "y_predict_test = DT_grid.predict(X_test)"
      ]
    },
    {
      "cell_type": "code",
      "execution_count": 89,
      "metadata": {
        "colab": {
          "base_uri": "https://localhost:8080/"
        },
        "id": "vbOREPnIi7Sg",
        "outputId": "5038713a-2048-463b-8d83-6f7d27672b78"
      },
      "outputs": [
        {
          "output_type": "stream",
          "name": "stdout",
          "text": [
            "DTH_Train R2    : 0.746429062369868\n",
            "DTH_Train MSE   : 108972.39679793929\n",
            "DTH_Train RMSE  : 330.1096738932976\n",
            "DTH_Test R2    : 0.7314084881987357\n",
            "DTH_Test MSE   : 115174.70208517845\n",
            "DTH_Test RMSE  : 339.37398557517406\n",
            "Adjusted R2 Train :  0.7464132959744423\n",
            "Adjusted R2 Test :  0.7313917878622438\n"
          ]
        }
      ],
      "source": [
        "evaluation_metrics((y_train),(y_predict_train),'DTH_Train') #DTH- Decison Tree Hyperparametr\n",
        "evaluation_metrics((y_test),(y_predict_test),'DTH_Test')\n",
        "print(\"Adjusted R2 Train : \",1-(1-r2_score((y_train), (y_predict_train)))*((X_test.shape[0]-1)/(X_test.shape[0]-X_test.shape[1]-1)))\n",
        "print(\"Adjusted R2 Test : \",1-(1-r2_score((y_test), (y_predict_test)))*((X_test.shape[0]-1)/(X_test.shape[0]-X_test.shape[1]-1)))"
      ]
    },
    {
      "cell_type": "markdown",
      "source": [
        "**Decision Tree** with parameter tuning reduced the overfitting of model and generalised the performance and accuracy of model. **R2 score for training set is 0.74 and testing set is 0.73.** "
      ],
      "metadata": {
        "id": "eWraNMLUYF25"
      }
    },
    {
      "cell_type": "markdown",
      "metadata": {
        "id": "7hLXSE3DOLvM"
      },
      "source": [
        "**Random Forest Regressor**"
      ]
    },
    {
      "cell_type": "code",
      "execution_count": 90,
      "metadata": {
        "id": "7woRIDR1OPD4"
      },
      "outputs": [],
      "source": [
        "from sklearn.ensemble import RandomForestRegressor"
      ]
    },
    {
      "cell_type": "code",
      "execution_count": 91,
      "metadata": {
        "id": "NEkyFkegpUId"
      },
      "outputs": [],
      "source": [
        "# Number of trees in the foreset\n",
        "# n_estimators = [30]\n",
        "\n",
        "# Max number of levels in each decision tree\n",
        "max_depth = [8]\n",
        "\n",
        "# Minimum number of data points placed in a node before the node is split\n",
        "min_samples_split = [2,4]\n",
        "\n",
        "# Minimum number of data points allowed in a leaf node\n",
        "min_samples_leaf = [3,5]\n",
        "\n",
        "# Hyperparameter Grid\n",
        "param_dict = {'max_depth' : max_depth,\n",
        "              'min_samples_split' : min_samples_split,\n",
        "              'min_samples_leaf' : min_samples_leaf}"
      ]
    },
    {
      "cell_type": "code",
      "execution_count": 92,
      "metadata": {
        "colab": {
          "base_uri": "https://localhost:8080/"
        },
        "id": "AasZKZefhYHH",
        "outputId": "ed893ff6-aebc-4282-8a6c-ae38233dbb78"
      },
      "outputs": [
        {
          "output_type": "execute_result",
          "data": {
            "text/plain": [
              "GridSearchCV(cv=3,\n",
              "             estimator=RandomForestRegressor(n_estimators=20, random_state=42),\n",
              "             param_grid={'max_depth': [8], 'min_samples_leaf': [3, 5],\n",
              "                         'min_samples_split': [2, 4]},\n",
              "             scoring='r2')"
            ]
          },
          "metadata": {},
          "execution_count": 92
        }
      ],
      "source": [
        "# Fitting Random Forest Regressor\n",
        "rf_model = RandomForestRegressor(n_estimators=20, random_state=42)\n",
        "rf_grid = GridSearchCV(estimator = rf_model, param_grid= param_dict, cv = 3, scoring='r2')\n",
        "rf_grid.fit(X_train, y_train)"
      ]
    },
    {
      "cell_type": "code",
      "execution_count": 93,
      "metadata": {
        "id": "ZMsMpY1TNBaN"
      },
      "outputs": [],
      "source": [
        "# Tain and Test Predictions\n",
        "y_rf_train = rf_grid.predict(X_train)\n",
        "y_rf_test = rf_grid.predict(X_test)"
      ]
    },
    {
      "cell_type": "code",
      "execution_count": 94,
      "metadata": {
        "colab": {
          "base_uri": "https://localhost:8080/"
        },
        "id": "FQ04kRI_HUQg",
        "outputId": "1bd05c9d-0f88-4d7e-ae25-099564cb6b9c"
      },
      "outputs": [
        {
          "output_type": "execute_result",
          "data": {
            "text/plain": [
              "RandomForestRegressor(max_depth=8, min_samples_leaf=3, n_estimators=20,\n",
              "                      random_state=42)"
            ]
          },
          "metadata": {},
          "execution_count": 94
        }
      ],
      "source": [
        "# Best Estimators for Random Forest\n",
        "rf_grid.best_estimator_"
      ]
    },
    {
      "cell_type": "code",
      "execution_count": 95,
      "metadata": {
        "colab": {
          "base_uri": "https://localhost:8080/"
        },
        "id": "w5OgnQnQGC0h",
        "outputId": "c445ea33-ebe4-4146-afaa-2858a6efbfe2"
      },
      "outputs": [
        {
          "output_type": "stream",
          "name": "stdout",
          "text": [
            "RandomForest_train R2    : 0.7130405280040423\n",
            "RandomForest_train MSE   : 123321.15714649916\n",
            "RandomForest_train RMSE  : 351.1711223128963\n",
            "RandomForest_Test R2    : 0.7121477901253097\n",
            "RandomForest_Test MSE   : 123433.88029852723\n",
            "RandomForest_Test RMSE  : 351.3315816981548\n",
            "Adjusted R2 Train :  0.7130226855945418\n",
            "Adjusted R2 Test :  0.7121298922076404\n"
          ]
        }
      ],
      "source": [
        "# Evaluation Metrics MSE, RMSE, R2 and \n",
        "evaluation_metrics((y_train),(y_rf_train),'RandomForest_train')\n",
        "evaluation_metrics((y_test),(y_rf_test),'RandomForest_Test')\n",
        "print(\"Adjusted R2 Train : \",1-(1-r2_score((y_train), (y_rf_train)))*((X_test.shape[0]-1)/(X_test.shape[0]-X_test.shape[1]-1)))\n",
        "print(\"Adjusted R2 Test : \",1-(1-r2_score((y_test), (y_rf_test)))*((X_test.shape[0]-1)/(X_test.shape[0]-X_test.shape[1]-1)))"
      ]
    },
    {
      "cell_type": "markdown",
      "metadata": {
        "id": "6eMVmiqfTl9Y"
      },
      "source": [
        "**XG Boost**"
      ]
    },
    {
      "cell_type": "code",
      "source": [
        "from xgboost import XGBRegressor"
      ],
      "metadata": {
        "id": "dJdXTrvTXj2B"
      },
      "execution_count": 99,
      "outputs": []
    },
    {
      "cell_type": "code",
      "execution_count": 96,
      "metadata": {
        "colab": {
          "base_uri": "https://localhost:8080/"
        },
        "id": "LNYyDPswXRZC",
        "outputId": "8a31e349-d4ba-45e5-cc52-17eb091fff4f"
      },
      "outputs": [
        {
          "output_type": "stream",
          "name": "stdout",
          "text": [
            "[12:50:11] WARNING: /workspace/src/objective/regression_obj.cu:152: reg:linear is now deprecated in favor of reg:squarederror.\n"
          ]
        },
        {
          "output_type": "execute_result",
          "data": {
            "text/plain": [
              "XGBRegressor(max_depth=8, n_estimators=200)"
            ]
          },
          "metadata": {},
          "execution_count": 96
        }
      ],
      "source": [
        "# Fitting XG Boost Model \n",
        "xg_reg = XGBRegressor(learning_rate = 0.1, max_depth = 8, n_estimators = 200)\n",
        "xg_reg.fit(X_train,y_train)"
      ]
    },
    {
      "cell_type": "code",
      "execution_count": 97,
      "metadata": {
        "id": "vUUw9sDiX00k"
      },
      "outputs": [],
      "source": [
        "# Train and Test Predictions\n",
        "xgb_train1 = xg_reg.predict(X_train)\n",
        "xgb_test2 = xg_reg.predict(X_test)"
      ]
    },
    {
      "cell_type": "code",
      "execution_count": 115,
      "metadata": {
        "colab": {
          "base_uri": "https://localhost:8080/"
        },
        "id": "DbkSkqhhakno",
        "outputId": "39d9a805-173c-40ea-e6ee-7f3df25d7818"
      },
      "outputs": [
        {
          "output_type": "stream",
          "name": "stdout",
          "text": [
            "XGBoost_train R2    : 0.7715863988260219\n",
            "XGBoost_train MSE   : 98161.00304634916\n",
            "XGBoost_train RMSE  : 313.30656400137735\n",
            "XGBoost_Test R2    : 0.7608616858697271\n",
            "XGBoost_Test MSE   : 102544.87903357619\n",
            "XGBoost_Test RMSE  : 320.22629347631056\n",
            "Adjusted R2 Train :  0.771572196649738\n",
            "Adjusted R2 Test :  0.7608468168580919\n"
          ]
        }
      ],
      "source": [
        "# Evalation Metrics\n",
        "evaluation_metrics((y_train),(xgb_train1),'XGBoost_train')\n",
        "evaluation_metrics((y_test),(xgb_test2),'XGBoost_Test')\n",
        "print(\"Adjusted R2 Train : \",1-(1-r2_score((y_train), (xgb_train1)))*((X_test.shape[0]-1)/(X_test.shape[0]-X_test.shape[1]-1)))\n",
        "print(\"Adjusted R2 Test : \",1-(1-r2_score((y_test), (xgb_test2)))*((X_test.shape[0]-1)/(X_test.shape[0]-X_test.shape[1]-1)))"
      ]
    },
    {
      "cell_type": "markdown",
      "source": [
        "**XG Boost** a Decision Tree ensemble mehtod, increased the accuracy of predictions. For training set **R2 score is 0.77 and testing set 0.76.** It means XG Boost will perform good predictions on Unseen data as well."
      ],
      "metadata": {
        "id": "s4DTO6nQXpC0"
      }
    },
    {
      "cell_type": "markdown",
      "source": [
        "**Let's see which features are important for Trip Duration Prediction**"
      ],
      "metadata": {
        "id": "xccQkwO3bekA"
      }
    },
    {
      "cell_type": "code",
      "source": [
        "# Feature Importance\n",
        "features = nyc_X.columns\n",
        "importances = xg_reg.feature_importances_\n",
        "indices = np.argsort(importances)"
      ],
      "metadata": {
        "id": "s97ZOq9kZ5JU"
      },
      "execution_count": 102,
      "outputs": []
    },
    {
      "cell_type": "code",
      "source": [
        "importance_feature__df= pd.DataFrame({'Features': features, 'Feature_importance':importances})\n",
        "print(importance_feature__df)"
      ],
      "metadata": {
        "colab": {
          "base_uri": "https://localhost:8080/"
        },
        "id": "cJ4vNYCFX_1Q",
        "outputId": "924f7117-9ec0-46fd-cbb6-3a3dd536d727"
      },
      "execution_count": 113,
      "outputs": [
        {
          "output_type": "stream",
          "name": "stdout",
          "text": [
            "              Features  Feature_importance\n",
            "0      passenger_count                0.00\n",
            "1         pickup_month                0.01\n",
            "2        dropoff_month                0.03\n",
            "3            pickup_hr                0.08\n",
            "4         dropoff_hour                0.10\n",
            "5             distance                0.45\n",
            "6           day_Monday                0.03\n",
            "7         day_Saturday                0.07\n",
            "8           day_Sunday                0.09\n",
            "9         day_Thursday                0.02\n",
            "10         day_Tuesday                0.01\n",
            "11       day_Wednesday                0.01\n",
            "12     drop_day_Monday                0.03\n",
            "13   drop_day_Saturday                0.02\n",
            "14     drop_day_Sunday                0.01\n",
            "15   drop_day_Thursday                0.01\n",
            "16    drop_day_Tuesday                0.01\n",
            "17  drop_day_Wednesday                0.01\n"
          ]
        }
      ]
    },
    {
      "cell_type": "code",
      "source": [
        "# Feature Importance Plot\n",
        "plt.title('Feature Importance')\n",
        "plt.barh(range(len(indices)), importances[indices], color='y', align='center')\n",
        "plt.yticks(range(len(indices)), [features[i] for i in indices])\n",
        "plt.xlabel('Relative Importance')\n",
        "plt.show()"
      ],
      "metadata": {
        "colab": {
          "base_uri": "https://localhost:8080/",
          "height": 295
        },
        "id": "Ct-VwjPTaLHj",
        "outputId": "2e665d80-246f-4ad9-bd17-32cb42b3f579"
      },
      "execution_count": 108,
      "outputs": [
        {
          "output_type": "display_data",
          "data": {
            "text/plain": [
              "<Figure size 432x288 with 1 Axes>"
            ],
            "image/png": "[encoded data removed]"
          },
          "metadata": {
            "needs_background": "light"
          }
        }
      ]
    },
    {
      "cell_type": "code",
      "source": [
        "from prettytable import PrettyTable"
      ],
      "metadata": {
        "id": "Ty2-e4C1ZTUV"
      },
      "execution_count": 114,
      "outputs": []
    },
    {
      "cell_type": "code",
      "source": [
        "table = PrettyTable(['Model', 'MSE_Train', 'MSE_Test', 'RSME_Train', 'RSME_Test', 'R2_Score_Train', 'R2_Score_Test', 'Adusted_R2_Score_Train', 'Adusted_R2_Score_Test'])\n",
        "# table.add_row(['Linear regression', ])\n",
        "# table.add_row(['Decision Tree',])\n",
        "# table.add_row(['Decision Tree with Hyperparameters Tuning', ])\n",
        "table.add_row(['Random Forest', 123321.15, 123433.88, 351.17, 351.33, 0.7130,0.7121, 0.7130, 0.7121])\n",
        "table.add_row(['XGBoost',  98161.00, 102544.87, 313.30, 351.33, 0.7715, 0.7608, 0.7715, 0.7608])"
      ],
      "metadata": {
        "id": "GhJDd2SAchMr"
      },
      "execution_count": 123,
      "outputs": []
    },
    {
      "cell_type": "code",
      "source": [
        "print(table)"
      ],
      "metadata": {
        "colab": {
          "base_uri": "https://localhost:8080/"
        },
        "id": "kKzbTaW3ebJ9",
        "outputId": "187e8480-a46a-4c48-b835-f678a735c07a"
      },
      "execution_count": 124,
      "outputs": [
        {
          "output_type": "stream",
          "name": "stdout",
          "text": [
            "+---------------+-----------+-----------+------------+-----------+----------------+---------------+------------------------+-----------------------+\n",
            "|     Model     | MSE_Train |  MSE_Test | RSME_Train | RSME_Test | R2_Score_Train | R2_Score_Test | Adusted_R2_Score_Train | Adusted_R2_Score_Test |\n",
            "+---------------+-----------+-----------+------------+-----------+----------------+---------------+------------------------+-----------------------+\n",
            "| Random Forest | 123321.15 | 123433.88 |   351.17   |   351.33  |     0.713      |     0.7121    |         0.713          |         0.7121        |\n",
            "|    XGBoost    |  98161.0  | 102544.87 |   313.3    |   351.33  |     0.7715     |     0.7608    |         0.7715         |         0.7608        |\n",
            "+---------------+-----------+-----------+------------+-----------+----------------+---------------+------------------------+-----------------------+\n"
          ]
        }
      ]
    },
    {
      "cell_type": "code",
      "source": [
        ""
      ],
      "metadata": {
        "id": "wTFTEtqqf8SG"
      },
      "execution_count": null,
      "outputs": []
    }
  ],
  "metadata": {
    "colab": {
      "collapsed_sections": [],
      "name": "NYC Taxi Trip Time Prediction - Capstone Project.ipynb",
      "provenance": []
    },
    "kernelspec": {
      "display_name": "Python 3",
      "language": "python",
      "name": "python3"
    },
    "language_info": {
      "codemirror_mode": {
        "name": "ipython",
        "version": 3
      },
      "file_extension": ".py",
      "mimetype": "text/x-python",
      "name": "python",
      "nbconvert_exporter": "python",
      "pygments_lexer": "ipython3",
      "version": "3.6.6"
    }
  },
  "nbformat": 4,
  "nbformat_minor": 0
}